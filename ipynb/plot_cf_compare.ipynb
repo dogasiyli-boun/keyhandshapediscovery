{
 "cells": [
  {
   "cell_type": "code",
   "execution_count": null,
   "metadata": {},
   "outputs": [],
   "source": [
    "import sys, importlib as impL\n",
    "sys.path.insert(1,'/mnt/USB_HDD_1TB/GitHub/keyhandshapediscovery/vae_torch')\n",
    "sys.path.insert(1,'/mnt/USB_HDD_1TB/GitHub/keyhandshapediscovery')\n",
    "import vae_torch_model as vtm\n",
    "import vae_torch as vt\n",
    "#from data_classes import khs_dataset_v2\n",
    "import vae_scripts as vs\n",
    "import sae_torch as st\n",
    "import os\n",
    "import numpy as np\n",
    "import matplotlib.pyplot as plt\n",
    "%matplotlib inline\n",
    "import vae_utils as vu"
   ]
  },
  {
   "cell_type": "code",
   "execution_count": null,
   "metadata": {},
   "outputs": [],
   "source": [
    "cf_int_arr=[22,23,24,25,26,27,28,29,30,31,32,33]"
   ]
  },
  {
   "cell_type": "code",
   "execution_count": null,
   "metadata": {},
   "outputs": [],
   "source": [
    "vu.plot_cf_compare(cf_int_arr=[28,34,35,36], data_log_keys = ['tr_va'], loss_key='reconstruction', max_act_ep=None, legend_loc='upper right')"
   ]
  },
  {
   "cell_type": "code",
   "execution_count": null,
   "metadata": {},
   "outputs": [],
   "source": [
    "vu.plot_cf_compare(cf_int_arr=cf_int_arr, data_log_keys = ['tr_va'], loss_key='bottleneck_act', max_act_ep=None, legend_loc='lower left')"
   ]
  },
  {
   "cell_type": "code",
   "execution_count": null,
   "metadata": {},
   "outputs": [],
   "source": [
    "import importlib as impL\n",
    "impL.reload(vu)\n",
    "cf_int_arr=[22,23,24,28,29,30]\n",
    "mul_before_plot=[10,2,1,10,2,1]\n",
    "vu.plot_cf_compare(cf_int_arr=cf_int_arr, mul_before_plot=mul_before_plot, data_log_keys = ['tr_va'], loss_key='sparsity', max_act_ep=None, legend_loc='lower right')"
   ]
  },
  {
   "cell_type": "code",
   "execution_count": null,
   "metadata": {},
   "outputs": [],
   "source": [
    "import importlib as impL\n",
    "impL.reload(vu)\n",
    "cf_int_arr=[34,35,36]\n",
    "mul_before_plot=[1,2,10]\n",
    "vu.plot_cf_compare(cf_int_arr=cf_int_arr, mul_before_plot=mul_before_plot, data_log_keys = ['va'], loss_key='sparsity', max_act_ep=None, legend_loc='lower right')"
   ]
  },
  {
   "cell_type": "code",
   "execution_count": null,
   "metadata": {},
   "outputs": [],
   "source": [
    "vu.plot_cf_compare(cf_int_arr=[25,26,27,31,32,33], data_log_keys = ['tr_va'], loss_key='sparsity', max_act_ep=49, legend_loc='upper right')"
   ]
  },
  {
   "cell_type": "code",
   "execution_count": null,
   "metadata": {},
   "outputs": [],
   "source": [
    "max_act_ep = 50"
   ]
  },
  {
   "cell_type": "code",
   "execution_count": null,
   "metadata": {},
   "outputs": [],
   "source": [
    "vu.plot_cf(cf_int=21, data_log_keys = ['tr_va'], k_loss_disp_list=['bottleneck_act'], max_act_ep=max_act_ep)"
   ]
  },
  {
   "cell_type": "code",
   "execution_count": null,
   "metadata": {},
   "outputs": [],
   "source": [
    "vu.plot_cf(cf_int=22, data_log_keys = ['tr_va'], k_loss_disp_list=['bottleneck_act'], max_act_ep=max_act_ep)"
   ]
  },
  {
   "cell_type": "code",
   "execution_count": null,
   "metadata": {},
   "outputs": [],
   "source": [
    "vu.plot_cf(cf_int=23, data_log_keys = ['tr_va'], k_loss_disp_list=['bottleneck_act'], max_act_ep=max_act_ep)"
   ]
  },
  {
   "cell_type": "code",
   "execution_count": null,
   "metadata": {},
   "outputs": [],
   "source": [
    "vu.plot_cf(cf_int=24, data_log_keys = ['tr_va'], k_loss_disp_list=['bottleneck_act'], max_act_ep=max_act_ep)"
   ]
  },
  {
   "cell_type": "code",
   "execution_count": null,
   "metadata": {},
   "outputs": [],
   "source": [
    "vu.plot_cf(cf_int=25, data_log_keys = ['tr_va','va'], k_loss_disp_list=['bottleneck_act'], max_act_ep=max_act_ep)"
   ]
  },
  {
   "cell_type": "code",
   "execution_count": null,
   "metadata": {},
   "outputs": [],
   "source": [
    "vu.plot_cf(cf_int=26, data_log_keys = ['tr_va','va'], k_loss_disp_list=['bottleneck_act'], max_act_ep=max_act_ep)"
   ]
  },
  {
   "cell_type": "code",
   "execution_count": null,
   "metadata": {},
   "outputs": [],
   "source": [
    "vu.plot_cf(cf_int=27, data_log_keys = ['tr_va','va'], k_loss_disp_list=['bottleneck_act'], max_act_ep=max_act_ep)"
   ]
  },
  {
   "cell_type": "code",
   "execution_count": null,
   "metadata": {},
   "outputs": [],
   "source": [
    "vu.plot_cf(cf_int=28, data_log_keys = ['tr_va','va','te'], k_loss_disp_list=['sparsity','bottleneck_act'], max_act_ep=None,select_id_type='last',plot_cnt = 5)"
   ]
  },
  {
   "cell_type": "code",
   "execution_count": null,
   "metadata": {},
   "outputs": [],
   "source": [
    "vu.plot_cf(cf_int=29, data_log_keys = ['tr_va'], k_loss_disp_list=['bottleneck_act'], max_act_ep=max_act_ep)"
   ]
  },
  {
   "cell_type": "code",
   "execution_count": null,
   "metadata": {},
   "outputs": [],
   "source": [
    "vu.plot_cf(cf_int=30, data_log_keys = ['tr_va'], k_loss_disp_list=['bottleneck_act'], max_act_ep=max_act_ep)"
   ]
  },
  {
   "cell_type": "code",
   "execution_count": null,
   "metadata": {},
   "outputs": [],
   "source": [
    "vu.plot_cf(cf_int=31, data_log_keys = ['tr_va'], k_loss_disp_list=['bottleneck_act'], max_act_ep=max_act_ep)"
   ]
  },
  {
   "cell_type": "code",
   "execution_count": null,
   "metadata": {},
   "outputs": [],
   "source": [
    "vu.plot_cf(cf_int=32, data_log_keys = ['tr_va'], k_loss_disp_list=['sparsity','bottleneck_act'], max_act_ep=max_act_ep)"
   ]
  },
  {
   "cell_type": "code",
   "execution_count": null,
   "metadata": {},
   "outputs": [],
   "source": [
    "vu.plot_cf(cf_int=33, data_log_keys = ['tr_va'], k_loss_disp_list=['sparsity','bottleneck_act'], max_act_ep=max_act_ep)"
   ]
  },
  {
   "cell_type": "code",
   "execution_count": null,
   "metadata": {},
   "outputs": [],
   "source": [
    "vu.plot_cf_compare(cf_int_arr=[28,29,30], data_log_keys = ['tr_va'], loss_key='sparsity', max_act_ep=49, legend_loc='upper right')"
   ]
  },
  {
   "cell_type": "code",
   "execution_count": null,
   "metadata": {},
   "outputs": [],
   "source": [
    "vu.plot_cf_compare(cf_int_arr=[28,29,30,31,32,33], data_log_keys = ['tr_va'], loss_key='bottleneck_act', max_act_ep=None, legend_loc='lower right')"
   ]
  },
  {
   "cell_type": "code",
   "execution_count": null,
   "metadata": {},
   "outputs": [],
   "source": [
    "n = 3\n",
    "d = 5\n",
    "bt = np.random.rand(n,d)\n",
    "rho = np.minimum(1/bt.shape[1],0.03)\n",
    "print(rho)"
   ]
  },
  {
   "cell_type": "code",
   "execution_count": null,
   "metadata": {},
   "outputs": [],
   "source": [
    "import torch\n",
    "print(rho*torch.ones(bt.shape))"
   ]
  },
  {
   "cell_type": "code",
   "execution_count": null,
   "metadata": {},
   "outputs": [],
   "source": [
    "impL.reload(vu)\n",
    "experiments_folder='/mnt/USB_HDD_1TB/GitHub/keyhandshapediscovery/experiments/FM/'\n",
    "z_fill_int=2\n",
    "loss_key='reconstruction' # sparsity, bottleneck_kmeans, bottleneck_act\n",
    "data_log_keys=['tr_te']  # ['tr_va', 'va', 'te']\n",
    "exp_base_name='exp_conv_ae_simple_is28_cf'\n",
    "ae_f_name_base='ae_ft_conv_ae_simple_is28.npy'\n",
    "legend_loc='upper right'\n",
    "max_act_ep=60\n",
    "cf_int_arr=[201,202,203,204,205,206,207,208,209,210,211,212,213,214,216,217,218]\n",
    "mul_before_plot=np.ones(np.shape(cf_int_arr),dtype=int)\n",
    "vu.plot_cf_compare(cf_int_arr=cf_int_arr, \n",
    "                data_log_keys=data_log_keys, \n",
    "                mul_before_plot=mul_before_plot, \n",
    "                loss_key=loss_key, \n",
    "                max_act_ep=max_act_ep,\n",
    "                legend_loc=legend_loc, \n",
    "                experiments_folder=experiments_folder, ae_f_name_base=ae_f_name_base,\n",
    "                exp_base_name=exp_base_name, \n",
    "                z_fill_int=z_fill_int)"
   ]
  },
  {
   "cell_type": "code",
   "execution_count": null,
   "metadata": {
    "scrolled": true
   },
   "outputs": [],
   "source": [
    "loss_key='sparsity' # , bottleneck_kmeans, bottleneck_act\n",
    "mul_before_plot=[540,30,120,1]\n",
    "vu.plot_cf_compare(cf_int_arr=[202,203,213,214], data_log_keys=data_log_keys, mul_before_plot=mul_before_plot, loss_key=loss_key, max_act_ep=max_act_ep,legend_loc=legend_loc,                 experiments_folder=experiments_folder, ae_f_name_base=ae_f_name_base, exp_base_name=exp_base_name, z_fill_int=z_fill_int)"
   ]
  },
  {
   "cell_type": "code",
   "execution_count": null,
   "metadata": {},
   "outputs": [],
   "source": [
    "loss_key='sparsity' # , bottleneck_kmeans, bottleneck_act\n",
    "mul_before_plot=[120,1]\n",
    "max_act_ep=None\n",
    "vu.plot_cf_compare(cf_int_arr=[213,214], data_log_keys=data_log_keys, mul_before_plot=mul_before_plot, loss_key=loss_key, max_act_ep=max_act_ep,legend_loc=legend_loc, experiments_folder=experiments_folder, ae_f_name_base=ae_f_name_base, exp_base_name=exp_base_name, z_fill_int=z_fill_int)"
   ]
  },
  {
   "cell_type": "code",
   "execution_count": null,
   "metadata": {},
   "outputs": [],
   "source": [
    "loss_key='bottleneck_kmeans' # , , bottleneck_act\n",
    "mul_before_plot=np.ones(np.shape(cf_int_arr),dtype=int)\n",
    "vu.plot_cf_compare(cf_int_arr=cf_int_arr, data_log_keys=data_log_keys, mul_before_plot=mul_before_plot, loss_key=loss_key, max_act_ep=max_act_ep,legend_loc='lower right', experiments_folder=experiments_folder, ae_f_name_base=ae_f_name_base, exp_base_name=exp_base_name, z_fill_int=z_fill_int)"
   ]
  },
  {
   "cell_type": "code",
   "execution_count": null,
   "metadata": {},
   "outputs": [],
   "source": [
    "loss_key='bottleneck_act' # , , \n",
    "cf_int_arr = [201,204, 205,212, 213, 214,216,217,218]\n",
    "mul_before_plot=np.ones(np.shape(cf_int_arr),dtype=int)\n",
    "vu.plot_cf_compare(cf_int_arr=cf_int_arr, data_log_keys=data_log_keys, mul_before_plot=mul_before_plot, loss_key=loss_key, max_act_ep=100,legend_loc='lower right',experiments_folder=experiments_folder, ae_f_name_base=ae_f_name_base, exp_base_name=exp_base_name, z_fill_int=z_fill_int)"
   ]
  },
  {
   "cell_type": "code",
   "execution_count": null,
   "metadata": {},
   "outputs": [],
   "source": []
  },
  {
   "cell_type": "code",
   "execution_count": null,
   "metadata": {},
   "outputs": [],
   "source": []
  },
  {
   "cell_type": "code",
   "execution_count": null,
   "metadata": {},
   "outputs": [],
   "source": []
  }
 ],
 "metadata": {
  "kernelspec": {
   "display_name": "Python 3",
   "language": "python",
   "name": "python3"
  },
  "language_info": {
   "codemirror_mode": {
    "name": "ipython",
    "version": 3
   },
   "file_extension": ".py",
   "mimetype": "text/x-python",
   "name": "python",
   "nbconvert_exporter": "python",
   "pygments_lexer": "ipython3",
   "version": "3.7.3"
  }
 },
 "nbformat": 4,
 "nbformat_minor": 2
}
