{
 "cells": [
  {
   "cell_type": "code",
   "execution_count": 1,
   "metadata": {},
   "outputs": [
    {
     "name": "stdout",
     "output_type": "stream",
     "text": [
      "1.6.0\n",
      "1.19.1\n"
     ]
    }
   ],
   "source": [
    "import torch\n",
    "import torch.nn.functional as F\n",
    "import numpy as np\n",
    "print(torch.__version__)\n",
    "print(np.__version__)"
   ]
  },
  {
   "cell_type": "code",
   "execution_count": 2,
   "metadata": {},
   "outputs": [
    {
     "name": "stdout",
     "output_type": "stream",
     "text": [
      "cpu\n"
     ]
    }
   ],
   "source": [
    "device = 'cuda:0' if torch.cuda.is_available() else 'cpu'\n",
    "print(device)"
   ]
  },
  {
   "cell_type": "code",
   "execution_count": 3,
   "metadata": {},
   "outputs": [
    {
     "name": "stdout",
     "output_type": "stream",
     "text": [
      "tensor([[10.,  3.],\n",
      "        [ 2.,  8.],\n",
      "        [10.,  2.],\n",
      "        [ 3.,  7.]])\n",
      "n= 4 , d= 2\n",
      "torch.sigmoid(tensor):\n",
      "tensor([[1.0000, 0.9526],\n",
      "        [0.8808, 0.9997],\n",
      "        [1.0000, 0.8808],\n",
      "        [0.9526, 0.9991]])\n",
      "F.log_softmax(tensor, dim=1):\n",
      "tensor([[-9.1142e-04, -7.0009e+00],\n",
      "        [-6.0025e+00, -2.4757e-03],\n",
      "        [-3.3540e-04, -8.0003e+00],\n",
      "        [-4.0181e+00, -1.8150e-02]])\n",
      "F.log_softmax(torch.sigmoid(tensor), dim=1):\n",
      "tensor([[-0.6697, -0.7171],\n",
      "        [-0.7543, -0.6355],\n",
      "        [-0.6353, -0.7545],\n",
      "        [-0.7167, -0.6702]])\n"
     ]
    }
   ],
   "source": [
    "var = torch.tensor([[10,3], [2,8], [10,2], [3,7]], dtype=torch.float32)\n",
    "print(var)\n",
    "n,d = var.size()\n",
    "print('n=', n, ', d=', d)\n",
    "\n",
    "print('torch.sigmoid(tensor):')\n",
    "print(torch.sigmoid(var))\n",
    "\n",
    "print('F.log_softmax(tensor, dim=1):')\n",
    "print(F.log_softmax(var, dim=1))\n",
    "\n",
    "print('F.log_softmax(torch.sigmoid(tensor), dim=1):')\n",
    "print(F.log_softmax(torch.sigmoid(var), dim=1))"
   ]
  },
  {
   "cell_type": "code",
   "execution_count": 4,
   "metadata": {},
   "outputs": [
    {
     "name": "stdout",
     "output_type": "stream",
     "text": [
      "rho_val =  0.5 . because d= 2\n",
      "rho_mat\n",
      "tensor([[0.5000, 0.5000],\n",
      "        [0.5000, 0.5000],\n",
      "        [0.5000, 0.5000],\n",
      "        [0.5000, 0.5000]], dtype=torch.float64)\n"
     ]
    }
   ],
   "source": [
    "rho_val = 1/var.size(1)\n",
    "print('rho_val = ', rho_val, '. because d=', d)\n",
    "rho_mat = torch.tensor([rho_val] * np.ones(var.size())).to(device)\n",
    "print('rho_mat')\n",
    "print(rho_mat)"
   ]
  },
  {
   "cell_type": "code",
   "execution_count": 5,
   "metadata": {},
   "outputs": [
    {
     "name": "stdout",
     "output_type": "stream",
     "text": [
      "tensor(0.0041, dtype=torch.float64)\n",
      "tensor(0.0010, dtype=torch.float64)\n"
     ]
    }
   ],
   "source": [
    "vr = torch.sigmoid(var).to(device)  # sigmoid because we need the probability distributions\n",
    "#https://discuss.pytorch.org/t/kl-divergence-produces-negative-values/16791/13\n",
    "#KLDLoss(p, q), sum(q) needs to equal one\n",
    "#p = log_softmax(tensor)\n",
    "loss_ret_sum = torch.nn.functional.kl_div(F.log_softmax(vr, dim=1), rho_mat, reduction='sum')\n",
    "print(loss_ret_sum)\n",
    "\n",
    "loss_ret_batchmean = torch.nn.functional.kl_div(F.log_softmax(vr, dim=1), rho_mat, reduction='batchmean')\n",
    "print(loss_ret_batchmean)"
   ]
  },
  {
   "cell_type": "code",
   "execution_count": 6,
   "metadata": {},
   "outputs": [],
   "source": [
    "def kl_divergence(bottleneck, reduction):\n",
    "    bt = torch.sigmoid(bottleneck)  # sigmoid because we need the probability distributions\n",
    "    rho_val = 1/bt.size(1)\n",
    "    rho_mat = torch.tensor([rho_val] * np.ones(bt.size())).to(device)\n",
    "    #https://discuss.pytorch.org/t/kl-divergence-produces-negative-values/16791/13\n",
    "    #KLDLoss(p, q), sum(q) needs to equal one\n",
    "    #p = log_softmax(tensor)\n",
    "    loss_ret_1 = torch.nn.functional.kl_div(F.log_softmax(bt, dim=1).to(device), rho_mat, reduction=reduction)\n",
    "    # torch.sum(rho * torch.log(rho / bottleneck) + (1 - rho) * torch.log((1 - rho) / (1 - bottleneck)))\n",
    "    return loss_ret_1"
   ]
  },
  {
   "cell_type": "code",
   "execution_count": 7,
   "metadata": {},
   "outputs": [
    {
     "name": "stdout",
     "output_type": "stream",
     "text": [
      "tensor(0.0041, dtype=torch.float64)\n",
      "tensor(0.0010, dtype=torch.float64)\n"
     ]
    }
   ],
   "source": [
    "loss_ret_sum = kl_divergence(var, reduction='sum')\n",
    "print(loss_ret_sum)\n",
    "loss_ret_batchmean = kl_divergence(var, reduction='batchmean')\n",
    "print(loss_ret_batchmean)"
   ]
  },
  {
   "cell_type": "code",
   "execution_count": 8,
   "metadata": {},
   "outputs": [],
   "source": [
    "def kl_divergence_ones(bt, reduction, apply_sigmoid, apply_log_softmax):\n",
    "    if apply_sigmoid:\n",
    "        bt = torch.sigmoid(bt)  # sigmoid because we need the probability distributions\n",
    "    rho_mat = torch.zeros(bt.size(), dtype=torch.float32).to(device)\n",
    "    _, preds = torch.max(bt, 1)\n",
    "    rho_mat[range(bt.size(0)), preds] = 1\n",
    "    if apply_log_softmax:\n",
    "        loss_ret_1 = F.kl_div(F.log_softmax(bt, dim=1).to(device), rho_mat, reduction=reduction)\n",
    "    else:\n",
    "        loss_ret_1 = F.kl_div(bt, rho_mat, reduction=reduction)\n",
    "    return loss_ret_1"
   ]
  },
  {
   "cell_type": "code",
   "execution_count": 9,
   "metadata": {},
   "outputs": [
    {
     "name": "stdout",
     "output_type": "stream",
     "text": [
      "tensor([[10.,  3., 11.],\n",
      "        [15.,  2.,  8.],\n",
      "        [ 7., 10.,  2.],\n",
      "        [ 2.,  3.,  7.]])\n"
     ]
    }
   ],
   "source": [
    "var = torch.tensor([[10,3,11], [15,2,8], [7,10,2], [2,3,7]], dtype=torch.float32)\n",
    "print(var)"
   ]
  },
  {
   "cell_type": "code",
   "execution_count": 10,
   "metadata": {},
   "outputs": [
    {
     "name": "stdout",
     "output_type": "stream",
     "text": [
      "tensor([[1.0000, 0.9526, 1.0000],\n",
      "        [1.0000, 0.8808, 0.9997],\n",
      "        [0.9991, 1.0000, 0.8808],\n",
      "        [0.8808, 0.9526, 0.9991]])\n"
     ]
    }
   ],
   "source": [
    "bt = torch.sigmoid(var)  # sigmoid because we need the probability distributions\n",
    "print(bt)"
   ]
  },
  {
   "cell_type": "code",
   "execution_count": 11,
   "metadata": {},
   "outputs": [
    {
     "name": "stdout",
     "output_type": "stream",
     "text": [
      "tensor([[0., 0., 0.],\n",
      "        [0., 0., 0.],\n",
      "        [0., 0., 0.],\n",
      "        [0., 0., 0.]])\n",
      "tensor([2, 0, 1, 2])\n"
     ]
    }
   ],
   "source": [
    "rho_mat = torch.zeros(bt.size(), dtype=torch.float32)\n",
    "print(rho_mat)\n",
    "_, preds = torch.max(bt, 1)\n",
    "print(preds)"
   ]
  },
  {
   "cell_type": "code",
   "execution_count": 12,
   "metadata": {},
   "outputs": [
    {
     "name": "stdout",
     "output_type": "stream",
     "text": [
      "tensor([[0., 0., 1.],\n",
      "        [1., 0., 0.],\n",
      "        [0., 1., 0.],\n",
      "        [0., 0., 1.]])\n"
     ]
    }
   ],
   "source": [
    "rho_mat[range(bt.size(0)), preds] = 1\n",
    "print(rho_mat)"
   ]
  },
  {
   "cell_type": "code",
   "execution_count": 13,
   "metadata": {},
   "outputs": [
    {
     "name": "stdout",
     "output_type": "stream",
     "text": [
      "reduction( sum ),apply_sigmoid( False ), apply_log_softmax( False ), loss_ret_sum( tensor(-43.) )\n",
      "reduction( sum ),apply_sigmoid( False ), apply_log_softmax( True ), loss_ret_sum( tensor(0.3881) )\n",
      "reduction( sum ),apply_sigmoid( True ), apply_log_softmax( False ), loss_ret_sum( tensor(-3.9990) )\n",
      "reduction( sum ),apply_sigmoid( True ), apply_log_softmax( True ), loss_ret_sum( tensor(4.2484) )\n",
      "reduction( batchmean ),apply_sigmoid( False ), apply_log_softmax( False ), loss_ret_sum( tensor(-10.7500) )\n",
      "reduction( batchmean ),apply_sigmoid( False ), apply_log_softmax( True ), loss_ret_sum( tensor(0.0970) )\n",
      "reduction( batchmean ),apply_sigmoid( True ), apply_log_softmax( False ), loss_ret_sum( tensor(-0.9998) )\n",
      "reduction( batchmean ),apply_sigmoid( True ), apply_log_softmax( True ), loss_ret_sum( tensor(1.0621) )\n"
     ]
    }
   ],
   "source": [
    "reduction='sum'\n",
    "apply_sigmoid=False\n",
    "apply_log_softmax=False\n",
    "loss_ret_sum = kl_divergence_ones(var, reduction=reduction, apply_sigmoid=apply_sigmoid, apply_log_softmax=apply_log_softmax)\n",
    "print('reduction(', reduction, '),apply_sigmoid(', apply_sigmoid ,'), apply_log_softmax(',apply_log_softmax,'), loss_ret_sum(',loss_ret_sum, ')')\n",
    "\n",
    "reduction='sum'\n",
    "apply_sigmoid=False\n",
    "apply_log_softmax=True\n",
    "loss_ret_sum = kl_divergence_ones(var, reduction=reduction, apply_sigmoid=apply_sigmoid, apply_log_softmax=apply_log_softmax)\n",
    "print('reduction(', reduction, '),apply_sigmoid(', apply_sigmoid ,'), apply_log_softmax(',apply_log_softmax,'), loss_ret_sum(',loss_ret_sum, ')')\n",
    "\n",
    "reduction='sum'\n",
    "apply_sigmoid=True\n",
    "apply_log_softmax=False\n",
    "loss_ret_sum = kl_divergence_ones(var, reduction=reduction, apply_sigmoid=apply_sigmoid, apply_log_softmax=apply_log_softmax)\n",
    "print('reduction(', reduction, '),apply_sigmoid(', apply_sigmoid ,'), apply_log_softmax(',apply_log_softmax,'), loss_ret_sum(',loss_ret_sum, ')')\n",
    "\n",
    "reduction='sum'\n",
    "apply_sigmoid=True\n",
    "apply_log_softmax=True\n",
    "loss_ret_sum = kl_divergence_ones(var, reduction=reduction, apply_sigmoid=apply_sigmoid, apply_log_softmax=apply_log_softmax)\n",
    "print('reduction(', reduction, '),apply_sigmoid(', apply_sigmoid ,'), apply_log_softmax(',apply_log_softmax,'), loss_ret_sum(',loss_ret_sum, ')')\n",
    "\n",
    "\n",
    "\n",
    "\n",
    "reduction='batchmean'\n",
    "apply_sigmoid=False\n",
    "apply_log_softmax=False\n",
    "loss_ret_sum = kl_divergence_ones(var, reduction=reduction, apply_sigmoid=apply_sigmoid, apply_log_softmax=apply_log_softmax)\n",
    "print('reduction(', reduction, '),apply_sigmoid(', apply_sigmoid ,'), apply_log_softmax(',apply_log_softmax,'), loss_ret_sum(',loss_ret_sum, ')')\n",
    "\n",
    "reduction='batchmean'\n",
    "apply_sigmoid=False\n",
    "apply_log_softmax=True\n",
    "loss_ret_sum = kl_divergence_ones(var, reduction=reduction, apply_sigmoid=apply_sigmoid, apply_log_softmax=apply_log_softmax)\n",
    "print('reduction(', reduction, '),apply_sigmoid(', apply_sigmoid ,'), apply_log_softmax(',apply_log_softmax,'), loss_ret_sum(',loss_ret_sum, ')')\n",
    "\n",
    "reduction='batchmean'\n",
    "apply_sigmoid=True\n",
    "apply_log_softmax=False\n",
    "loss_ret_sum = kl_divergence_ones(var, reduction=reduction, apply_sigmoid=apply_sigmoid, apply_log_softmax=apply_log_softmax)\n",
    "print('reduction(', reduction, '),apply_sigmoid(', apply_sigmoid ,'), apply_log_softmax(',apply_log_softmax,'), loss_ret_sum(',loss_ret_sum, ')')\n",
    "\n",
    "reduction='batchmean'\n",
    "apply_sigmoid=True\n",
    "apply_log_softmax=True\n",
    "loss_ret_sum = kl_divergence_ones(var, reduction=reduction, apply_sigmoid=apply_sigmoid, apply_log_softmax=apply_log_softmax)\n",
    "print('reduction(', reduction, '),apply_sigmoid(', apply_sigmoid ,'), apply_log_softmax(',apply_log_softmax,'), loss_ret_sum(',loss_ret_sum, ')')\n"
   ]
  },
  {
   "cell_type": "code",
   "execution_count": null,
   "metadata": {},
   "outputs": [],
   "source": []
  },
  {
   "cell_type": "code",
   "execution_count": null,
   "metadata": {},
   "outputs": [],
   "source": []
  }
 ],
 "metadata": {
  "kernelspec": {
   "display_name": "Python 3",
   "language": "python",
   "name": "python3"
  },
  "language_info": {
   "codemirror_mode": {
    "name": "ipython",
    "version": 3
   },
   "file_extension": ".py",
   "mimetype": "text/x-python",
   "name": "python",
   "nbconvert_exporter": "python",
   "pygments_lexer": "ipython3",
   "version": "3.7.7"
  }
 },
 "nbformat": 4,
 "nbformat_minor": 2
}
