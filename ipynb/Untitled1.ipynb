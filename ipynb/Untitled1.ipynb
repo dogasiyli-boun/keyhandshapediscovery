{
 "cells": [
  {
   "cell_type": "code",
   "execution_count": 2,
   "metadata": {},
   "outputs": [
    {
     "name": "stdout",
     "output_type": "stream",
     "text": [
      "(5,)\n",
      "(3, 4)\n"
     ]
    }
   ],
   "source": [
    "in_size = list([3,4])\n",
    "a = tuple([5]) \n",
    "b = tuple(in_size)\n",
    "print(a)\n",
    "print(b)"
   ]
  },
  {
   "cell_type": "markdown",
   "metadata": {},
   "source": [
    "so I will have data as ndarray at bottleneck as N by D\n",
    "I will have the class labels acquired by kmeans\n",
    "I want to find correspondance samples as\n",
    "a) two random samples that are in cluster\n",
    "b) some sample and the center sample\n",
    "\n",
    "which wil be acquired as in and out indices by a function that takes nxd array and cluster labels"
   ]
  },
  {
   "cell_type": "code",
   "execution_count": 8,
   "metadata": {
    "collapsed": true
   },
   "outputs": [],
   "source": [
    "import numpy as np\n",
    "a = np.load('/home/doga/Desktop/correspondance_find.npz')\n",
    "predictions = a['predictions']\n",
    "bottleneck_vec = a['bottleneck_vec']"
   ]
  },
  {
   "cell_type": "code",
   "execution_count": 9,
   "metadata": {},
   "outputs": [
    {
     "name": "stdout",
     "output_type": "stream",
     "text": [
      "(60000,)\n",
      "(60000, 32)\n"
     ]
    }
   ],
   "source": [
    "print(predictions.shape)\n",
    "print(bottleneck_vec.shape)"
   ]
  },
  {
   "cell_type": "code",
   "execution_count": 19,
   "metadata": {},
   "outputs": [
    {
     "name": "stdout",
     "output_type": "stream",
     "text": [
      "i= 0 : 1349\n",
      "i= 1 : 2248\n",
      "i= 2 : 2726\n",
      "i= 3 : 3989\n",
      "i= 4 : 1947\n",
      "i= 5 : 857\n",
      "i= 6 : 1224\n",
      "i= 7 : 3478\n",
      "i= 8 : 1196\n",
      "i= 9 : 1340\n",
      "i= 10 : 1268\n",
      "i= 11 : 1692\n",
      "i= 12 : 1810\n",
      "i= 13 : 1256\n",
      "i= 14 : 1659\n",
      "i= 15 : 1791\n",
      "i= 16 : 907\n",
      "i= 17 : 2101\n",
      "i= 18 : 1254\n",
      "i= 19 : 1350\n",
      "i= 20 : 1934\n",
      "i= 21 : 2900\n",
      "i= 22 : 1491\n",
      "i= 23 : 1597\n",
      "i= 24 : 1690\n",
      "i= 25 : 2600\n",
      "i= 26 : 2759\n",
      "i= 27 : 2735\n",
      "i= 28 : 1738\n",
      "i= 29 : 2644\n",
      "i= 30 : 641\n",
      "i= 31 : 1829\n"
     ]
    }
   ],
   "source": [
    "uq_pr = np.unique(predictions)\n",
    "for i in uq_pr:\n",
    "    print(\"i=\", int(i), \":\", np.sum(predictions==i))"
   ]
  },
  {
   "cell_type": "code",
   "execution_count": 21,
   "metadata": {},
   "outputs": [],
   "source": [
    "import importlib as impL\n",
    "import sys\n",
    "sys.path.insert(1,'/home/doga/GithUBuntU/keyhandshapediscovery/vae_torch')\n",
    "sys.path.insert(1,'/home/doga/GithUBuntU/keyhandshapediscovery')\n",
    "import vae_torch_model as vtm\n",
    "import helperFuncs as funcH"
   ]
  },
  {
   "cell_type": "code",
   "execution_count": 84,
   "metadata": {
    "collapsed": true
   },
   "outputs": [],
   "source": [
    "def get_correspondance_ids_01(X, cluster_ids):\n",
    "    #only lists the cluster ids and number of samples in them\n",
    "    uq_pr = np.unique(predictions)\n",
    "    for i in uq_pr:\n",
    "        cluster_id = i\n",
    "        cluster_inds = funcH.getInds(predictions, i)\n",
    "        # print(\"cluster_id=\", int(cluster_id), \":\", len(cluster_inds))\n",
    "        \n",
    "def get_correspondance_ids_02(X, cluster_ids):\n",
    "    #uses X to find the center sample and returns center sample id too\n",
    "    centroid_df = funcH.get_cluster_centroids(ft=X, predClusters=cluster_ids, verbose=0)\n",
    "    uq_pr = np.unique(predictions)\n",
    "    for i in range(len(uq_pr)):\n",
    "        cluster_id = uq_pr[i]\n",
    "        cluster_inds = funcH.getInds(predictions, i)\n",
    "        #print(\"cluster_id({:-3d}), sampleCount({:-4d}), centerSampleId({:-5d})\".format(int(cluster_id),len(cluster_inds),centroid_df['sampleID'].iloc[i]))\n",
    "\n",
    "        \n",
    "def get_correspondance_ids_03(X, cluster_ids):\n",
    "    #uses X to find the center sample\n",
    "    #returns inds_in, inds_out where:\n",
    "    # inds_in : some_sample_id\n",
    "    # inds_out: the center of cluster of that sample_id\n",
    "    centroid_df = funcH.get_cluster_centroids(ft=X, predClusters=cluster_ids, verbose=0)\n",
    "    uq_pr = np.unique(predictions)\n",
    "    inds_in = []\n",
    "    inds_out= []\n",
    "    for i in range(len(uq_pr)):\n",
    "        cluster_id = uq_pr[i]\n",
    "        cluster_inds = funcH.getInds(predictions, i)\n",
    "        center_sample_inds = centroid_df['sampleID'].iloc[i]\n",
    "        print(\"cluster_id({:-3d}), sampleCount({:-4d}), centerSampleId({:-5d})\".format(int(cluster_id),len(cluster_inds),center_sample_inds))\n",
    "        #inds_in <--all sampleids except cluster center\n",
    "        #inds_out<--cluster sample id with length of inds_in\n",
    "        iin_cur = np.asarray(cluster_inds[np.where(center_sample_inds!=cluster_inds)],dtype=int).squeeze()\n",
    "        out_cur = np.asarray(np.ones(iin_cur.shape)*center_sample_inds, dtype=int)\n",
    "        print(\"iin_cur.shape{:}, out_cur.shape{:}\".format(iin_cur.shape, out_cur.shape))\n",
    "        if i==0:\n",
    "            print(\"iin=\", iin_cur)\n",
    "            print(\"out=\", out_cur)\n",
    "        inds_in.append(iin_cur)\n",
    "        inds_out.append(out_cur)  \n",
    "    inds_in = np.asarray(np.concatenate(inds_in), dtype=int)\n",
    "    inds_out = np.asarray(np.concatenate(inds_out), dtype=int)        \n",
    "    return inds_in, inds_out\n",
    "\n",
    "def get_cluster_correspondance_ids(X, cluster_ids, correspondance_type=\"shuffle\"):\n",
    "    #uses X to find the center sample\n",
    "    #returns inds_in, inds_out where:\n",
    "    #if correspondance_type=='shuffle'\n",
    "    # inds_in : shuffled indices of a cluster\n",
    "    # inds_out: shuffled indices of a cluster\n",
    "    #elseif correspondance_type=='centered'\n",
    "    # inds_in : some_sample_id\n",
    "    # inds_out: the center of cluster of that sample_id\n",
    "    centroid_df = funcH.get_cluster_centroids(ft=X, predClusters=cluster_ids, verbose=0)\n",
    "    uq_pr = np.unique(predictions)\n",
    "    inds_in = []\n",
    "    inds_out= []\n",
    "    for i in range(len(uq_pr)):\n",
    "        cluster_id = uq_pr[i]\n",
    "        cluster_inds = funcH.getInds(predictions, i)\n",
    "        \n",
    "        if correspondance_type=='shuffle':\n",
    "            iin_cur = cluster_inds.copy()\n",
    "            np.random.shuffle(iin_cur)\n",
    "            out_cur = cluster_inds.copy()\n",
    "            np.random.shuffle(out_cur)          \n",
    "        else:\n",
    "            center_sample_inds = centroid_df['sampleID'].iloc[i]\n",
    "            print(\"cluster_id({:-3d}), sampleCount({:-4d}), centerSampleId({:-5d})\".format(int(cluster_id),len(cluster_inds),center_sample_inds))\n",
    "            #inds_in <--all sampleids except cluster center\n",
    "            #inds_out<--cluster sample id with length of inds_in\n",
    "            iin_cur = np.asarray(cluster_inds[np.where(center_sample_inds!=cluster_inds)],dtype=int).squeeze()\n",
    "            out_cur = np.asarray(np.ones(iin_cur.shape)*center_sample_inds, dtype=int)\n",
    "            \n",
    "        print(\"iin_cur.shape{:}, out_cur.shape{:}\".format(iin_cur.shape, out_cur.shape))\n",
    "        if i==0:\n",
    "            print(\"iin=\", iin_cur)\n",
    "            print(\"out=\", out_cur)\n",
    "        inds_in.append(iin_cur)\n",
    "        inds_out.append(out_cur)\n",
    "    inds_in = np.asarray(np.concatenate(inds_in), dtype=int)\n",
    "    inds_out = np.asarray(np.concatenate(inds_out), dtype=int)        \n",
    "    print(\"inds_in.shape{:}, inds_out.shape{:}\".format(inds_in.shape, inds_out.shape))\n",
    "    return inds_in, inds_out"
   ]
  },
  {
   "cell_type": "code",
   "execution_count": 85,
   "metadata": {},
   "outputs": [
    {
     "name": "stdout",
     "output_type": "stream",
     "text": [
      "iin_cur.shape(1349,), out_cur.shape(1349,)\n",
      "iin= [49374 33561 45588 ... 31870 42364 56219]\n",
      "out= [ 8245   955 47596 ... 21766 18661 42248]\n",
      "iin_cur.shape(2248,), out_cur.shape(2248,)\n",
      "iin_cur.shape(2726,), out_cur.shape(2726,)\n",
      "iin_cur.shape(3989,), out_cur.shape(3989,)\n",
      "iin_cur.shape(1947,), out_cur.shape(1947,)\n",
      "iin_cur.shape(857,), out_cur.shape(857,)\n",
      "iin_cur.shape(1224,), out_cur.shape(1224,)\n",
      "iin_cur.shape(3478,), out_cur.shape(3478,)\n",
      "iin_cur.shape(1196,), out_cur.shape(1196,)\n",
      "iin_cur.shape(1340,), out_cur.shape(1340,)\n",
      "iin_cur.shape(1268,), out_cur.shape(1268,)\n",
      "iin_cur.shape(1692,), out_cur.shape(1692,)\n",
      "iin_cur.shape(1810,), out_cur.shape(1810,)\n",
      "iin_cur.shape(1256,), out_cur.shape(1256,)\n",
      "iin_cur.shape(1659,), out_cur.shape(1659,)\n",
      "iin_cur.shape(1791,), out_cur.shape(1791,)\n",
      "iin_cur.shape(907,), out_cur.shape(907,)\n",
      "iin_cur.shape(2101,), out_cur.shape(2101,)\n",
      "iin_cur.shape(1254,), out_cur.shape(1254,)\n",
      "iin_cur.shape(1350,), out_cur.shape(1350,)\n",
      "iin_cur.shape(1934,), out_cur.shape(1934,)\n",
      "iin_cur.shape(2900,), out_cur.shape(2900,)\n",
      "iin_cur.shape(1491,), out_cur.shape(1491,)\n",
      "iin_cur.shape(1597,), out_cur.shape(1597,)\n",
      "iin_cur.shape(1690,), out_cur.shape(1690,)\n",
      "iin_cur.shape(2600,), out_cur.shape(2600,)\n",
      "iin_cur.shape(2759,), out_cur.shape(2759,)\n",
      "iin_cur.shape(2735,), out_cur.shape(2735,)\n",
      "iin_cur.shape(1738,), out_cur.shape(1738,)\n",
      "iin_cur.shape(2644,), out_cur.shape(2644,)\n",
      "iin_cur.shape(641,), out_cur.shape(641,)\n",
      "iin_cur.shape(1829,), out_cur.shape(1829,)\n",
      "inds_in.shape(60000,), inds_out.shape(60000,)\n"
     ]
    }
   ],
   "source": [
    "inds_in, inds_out = get_cluster_correspondance_ids(bottleneck_vec, predictions, correspondance_type=\"shuffle\")"
   ]
  },
  {
   "cell_type": "code",
   "execution_count": 70,
   "metadata": {},
   "outputs": [
    {
     "name": "stdout",
     "output_type": "stream",
     "text": [
      "inds_in.shape(59968,), inds_out.shape(59968,)\n"
     ]
    }
   ],
   "source": [
    "print(\"inds_in.shape{:}, inds_out.shape{:}\".format(inds_in.shape, inds_out.shape))"
   ]
  },
  {
   "cell_type": "code",
   "execution_count": 79,
   "metadata": {},
   "outputs": [
    {
     "name": "stdout",
     "output_type": "stream",
     "text": [
      "[0 1 2 3 4 5 6 7]\n",
      "[1 4 2 6 7 5 3 0]\n"
     ]
    }
   ],
   "source": [
    "a = np.arange(8)\n",
    "print(a)\n",
    "b = a.copy()\n",
    "np.random.shuffle(b)\n",
    "print(b)"
   ]
  },
  {
   "cell_type": "code",
   "execution_count": 104,
   "metadata": {},
   "outputs": [
    {
     "name": "stdout",
     "output_type": "stream",
     "text": [
      "[array([0.8856084 , 0.83776979]), array([0.01579268, 0.47607407])]\n",
      "[array([0.46853605, 0.68324035]), array([0.6675017 , 0.42673321])]\n",
      "5\n",
      "6\n"
     ]
    }
   ],
   "source": [
    "def f(a, b, c):\n",
    "    b.append(np.random.rand(2))    \n",
    "    c.append(np.random.rand(2))\n",
    "    return 5, 6\n",
    "lab_vec = []\n",
    "bottleneck_vec = []\n",
    "f(5,lab_vec,bottleneck_vec)\n",
    "z = f(5,lab_vec,bottleneck_vec)\n",
    "print(lab_vec)\n",
    "print(bottleneck_vec)\n",
    "print(z[0])\n",
    "print(z[1])"
   ]
  },
  {
   "cell_type": "code",
   "execution_count": 106,
   "metadata": {},
   "outputs": [
    {
     "name": "stdout",
     "output_type": "stream",
     "text": [
      "fr(0,to(13),a[ 0  1  2  3  4  5  6  7  8  9 10 11 12]\n",
      "fr(13,to(26),a[13 14 15 16 17 18 19 20 21 22 23 24 25]\n",
      "fr(26,to(39),a[26 27 28 29 30 31 32 33 34 35 36 37 38]\n",
      "fr(39,to(52),a[39 40 41 42 43 44 45 46 47 48 49 50 51]\n",
      "fr(52,to(65),a[52 53 54 55 56 57 58 59 60 61 62 63 64]\n",
      "fr(65,to(78),a[65 66 67 68 69 70 71 72 73 74 75 76 77]\n",
      "fr(78,to(91),a[78 79 80 81 82 83 84 85 86 87 88 89 90]\n",
      "fr(91,to(102),a[ 91  92  93  94  95  96  97  98  99 100 101]\n"
     ]
    }
   ],
   "source": [
    "N=102\n",
    "bs=13\n",
    "fr=0\n",
    "a = np.arange(N)\n",
    "while fr<N:\n",
    "    to = np.minimum(fr + bs, N)\n",
    "    print(\"fr({:},to({:}),a{:}\".format(fr,to,a[fr:to]))\n",
    "    fr = to"
   ]
  },
  {
   "cell_type": "code",
   "execution_count": null,
   "metadata": {
    "collapsed": true
   },
   "outputs": [],
   "source": []
  }
 ],
 "metadata": {
  "kernelspec": {
   "display_name": "venv",
   "language": "python",
   "name": "venv"
  },
  "language_info": {
   "codemirror_mode": {
    "name": "ipython",
    "version": 3
   },
   "file_extension": ".py",
   "mimetype": "text/x-python",
   "name": "python",
   "nbconvert_exporter": "python",
   "pygments_lexer": "ipython3",
   "version": "3.7.4"
  }
 },
 "nbformat": 4,
 "nbformat_minor": 2
}
