{
 "cells": [
  {
   "cell_type": "code",
   "execution_count": null,
   "metadata": {},
   "outputs": [],
   "source": [
    "#import scriptFile as sF, shutil,  visualize as funcVis, importlib as impL, os, projRelatedHelperFuncs as prHF\n",
    "import torch\n",
    "import numpy as np\n",
    "print(torch.__version__)\n",
    "from collections import Counter\n",
    "import pandas as pd \n",
    "import os\n",
    "import importlib as impL"
   ]
  },
  {
   "cell_type": "code",
   "execution_count": null,
   "metadata": {},
   "outputs": [],
   "source": [
    "import sys\n",
    "sys.path.append(\"/home/doga/GithUBuntU/keyhandshapediscovery\")\n",
    "#sys.path.extend(['/home/doga/GithUBuntU/keyhandshapediscovery'])\n",
    "import helperFuncs as funcH\n",
    "import projRelatedHelperFuncs as prHF #prepare_data_4\n",
    "import dataLoaderFuncs as dlF #HandCraftedDataset\n",
    "import modelFuncs as moF #MLP\n",
    "import scriptFile as sf\n",
    "impL.reload(funcH)\n",
    "impL.reload(prHF)\n",
    "impL.reload(dlF)\n",
    "impL.reload(moF)\n",
    "impL.reload(sf)\n",
    "funcH.setPandasDisplayOpts()"
   ]
  },
  {
   "cell_type": "code",
   "execution_count": null,
   "metadata": {},
   "outputs": [],
   "source": [
    "impL.reload(sf)\n",
    "impL.reload(funcH)\n",
    "\n",
    "rs=0\n",
    "dropout_value=0.3\n",
    "\n",
    "hidStateID=7\n",
    "nos=11\n",
    "\n",
    "hidStateID = 0\n",
    "nos = 41\n",
    "\n",
    "data_va_te_str=\"te\"\n",
    "dv = [[\"hog\", \"sn\", \"sk\", \"hgsk\", \"hgsn\", \"snsk\", \"hgsnsk\"], [\"hog\", \"sn\", \"sk\"],[\"hog\", \"sk\"],[\"hog\", \"sk\", \"hgsk\"],[\"hog\", \"sn\"]]\n",
    "\n",
    "for userTe in [2, 3, 4, 5, 6, 7]:\n",
    "    for userVa in [2, 3, 4, 5, 6, 7]:\n",
    "        if userTe==userVa:\n",
    "            continue\n",
    "        all_results = sf.append_to_all_results_dv_loop(userTe, userVa, nos, dv, data_va_te_str, dropout_value, rs, hidStateID)\n",
    "    \n",
    "print(all_results)\n",
    "all_results.to_csv(\"/home/doga/Desktop/nos\"+str(nos)+\"_\"+str(data_va_te_str)+\".csv\")"
   ]
  },
  {
   "cell_type": "code",
   "execution_count": null,
   "metadata": {
    "collapsed": true
   },
   "outputs": [],
   "source": []
  },
  {
   "cell_type": "code",
   "execution_count": null,
   "metadata": {
    "collapsed": true
   },
   "outputs": [],
   "source": [
    "ep = 1\n",
    "userIDTest = 2\n",
    "crossValidID = 2\n",
    "base_dir = funcH.getVariableByComputerName('base_dir')\n",
    "data_path_base = \"neuralNetHandImages_nos11_rs224\"\n",
    "modelName = \"resnet18\"\n",
    "randomSeed = 1\n",
    "exp_ident = \"te{:d}_cv{:d}\".format(userIDTest, crossValidID) + \\\n",
    "                \"_\" + modelName + \\\n",
    "                \"_\" + data_path_base + \"_rs\" + str(randomSeed).zfill(2)\n",
    "\n",
    "result_fold = os.path.join(base_dir, 'sup', 'preds_' + modelName, 'pred_' + exp_ident)\n",
    "resultFileNameFull = os.path.join(result_fold, \"ep{:03d}.npy\".format(ep))\n",
    "a = np.load(resultFileNameFull, allow_pickle=True)\n",
    "\n",
    "labels_tra = np.asarray(a.item().get('labels_tra'))\n",
    "pred_tra = np.asarray(a.item().get('pred_tra'))\n",
    "\n",
    "labels_val = np.asarray(a.item().get('labels_val'))\n",
    "pred_val = np.asarray(a.item().get('pred_val'))\n",
    "\n",
    "labels_tes = np.asarray(a.item().get('labels_tes'))\n",
    "pred_tes = np.asarray(a.item().get('pred_tes'))\n",
    "\n",
    "allSampleCnt = labels_tra.shape[0] + labels_val.shape[0] + labels_tes.shape[0]\n",
    "print(\"uniq - tr(\", len(np.unique(labels_tra)) ,\"),va(\", len(np.unique(labels_val)) ,\"),te(\", len(np.unique(labels_tes)) ,\")\")\n",
    "print(\"tr(\"+str(labels_tra.shape[0])+\")+va(\"+ str(labels_val.shape[0])+\")+te(\"+str(labels_tes.shape[0])+\")=\", str(allSampleCnt))"
   ]
  },
  {
   "cell_type": "code",
   "execution_count": null,
   "metadata": {
    "collapsed": true
   },
   "outputs": [],
   "source": [
    "hc_cnt = [4711, 4719, 3881, 4468, 2942, 2481]\n",
    "print(np.sum(hc_cnt[2:]))"
   ]
  },
  {
   "cell_type": "code",
   "execution_count": null,
   "metadata": {
    "collapsed": true
   },
   "outputs": [],
   "source": []
  }
 ],
 "metadata": {
  "kernelspec": {
   "display_name": "venv",
   "language": "python",
   "name": "venv"
  },
  "language_info": {
   "codemirror_mode": {
    "name": "ipython",
    "version": 3
   },
   "file_extension": ".py",
   "mimetype": "text/x-python",
   "name": "python",
   "nbconvert_exporter": "python",
   "pygments_lexer": "ipython3",
   "version": "3.7.4"
  }
 },
 "nbformat": 4,
 "nbformat_minor": 2
}
