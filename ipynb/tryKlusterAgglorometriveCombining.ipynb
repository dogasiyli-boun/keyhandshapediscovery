{
 "cells": [
  {
   "cell_type": "code",
   "execution_count": 18,
   "id": "31b30129",
   "metadata": {},
   "outputs": [],
   "source": [
    "import os, sys\n",
    "sys.path.insert(1,'/home/doga/GithUBuntU/keyhandshapediscovery')\n",
    "import helperFuncs as funcH\n",
    "import numpy as np\n",
    "import pandas as pd"
   ]
  },
  {
   "cell_type": "code",
   "execution_count": 2,
   "id": "5997cbe6",
   "metadata": {},
   "outputs": [],
   "source": [
    "n = 21 # 21 samples \n",
    "klusters = np.asarray([0,0,1,1,2,2,3,3,0,0,4,4,0,5,0,5,1,2,3,1,5],dtype=int)\n",
    "labels   = np.asarray([0,0,0,1,0,0,1,1,0,1,2,2,0,2,2,2,0,2,1,0,0],dtype=int)"
   ]
  },
  {
   "cell_type": "code",
   "execution_count": 3,
   "id": "45a5d59d",
   "metadata": {},
   "outputs": [],
   "source": [
    "_confMat, kluster2Classes, kr_pdf, weightedPurity, cnmxh_perc = funcH.countPredictionsForConfusionMat(labels, klusters, labelNames=[\"c0\",\"c1\",\"c2\"], centroid_info_pdf=None, verbose=0)"
   ]
  },
  {
   "cell_type": "code",
   "execution_count": 4,
   "id": "40272f64",
   "metadata": {},
   "outputs": [
    {
     "name": "stdout",
     "output_type": "stream",
     "text": [
      "[[0, 0, 6, 4], [1, 0, 4, 3], [2, 0, 3, 2], [3, 1, 3, 3], [4, 2, 2, 2], [5, 2, 3, 2]]\n"
     ]
    }
   ],
   "source": [
    "print(kluster2Classes)"
   ]
  },
  {
   "cell_type": "code",
   "execution_count": 5,
   "id": "fec05be7",
   "metadata": {},
   "outputs": [
    {
     "name": "stdout",
     "output_type": "stream",
     "text": [
      "    klust  mappedClass  elementCnt  correctMapCount\n",
      "k0      0            0           6                4\n",
      "k1      1            0           4                3\n",
      "k2      2            0           3                2\n",
      "k3      3            1           3                3\n",
      "k4      4            2           2                2\n",
      "k5      5            2           3                2\n"
     ]
    }
   ],
   "source": [
    "k2c = pd.DataFrame(kluster2Classes,columns=[\"klust\",\"mappedClass\",\"elementCnt\",\"correctMapCount\"],index=[\"k0\",\"k1\",\"k2\",\"k3\",\"k4\",\"k5\"])\n",
    "print(k2c)"
   ]
  },
  {
   "cell_type": "code",
   "execution_count": 6,
   "id": "bf03d7a6",
   "metadata": {},
   "outputs": [
    {
     "name": "stdout",
     "output_type": "stream",
     "text": [
      "  kID mappedClass  #of  N     %purity\n",
      "3  k3          c1    3  3  100.000000\n",
      "4  k4          c2    2  2  100.000000\n",
      "1  k1          c0    3  4   75.000000\n",
      "0  k0          c0    4  6   66.666667\n",
      "2  k2          c0    2  3   66.666667\n",
      "5  k5          c2    2  3   66.666667\n"
     ]
    }
   ],
   "source": [
    "print(kr_pdf)"
   ]
  },
  {
   "cell_type": "markdown",
   "id": "9e76500b",
   "metadata": {},
   "source": [
    "### Lets create a sample distance matrix for the above assignments"
   ]
  },
  {
   "cell_type": "code",
   "execution_count": 7,
   "id": "99d96a11",
   "metadata": {},
   "outputs": [
    {
     "name": "stdout",
     "output_type": "stream",
     "text": [
      "[[0. 0. 0. 0. 0. 0.]\n",
      " [0. 0. 0. 0. 0. 0.]\n",
      " [0. 0. 0. 0. 0. 0.]\n",
      " [0. 0. 0. 0. 0. 0.]\n",
      " [0. 0. 0. 0. 0. 0.]\n",
      " [0. 0. 0. 0. 0. 0.]]\n"
     ]
    }
   ],
   "source": [
    "dm = np.zeros((6,6))\n",
    "print(dm)"
   ]
  },
  {
   "cell_type": "code",
   "execution_count": 8,
   "id": "63cfbcc7",
   "metadata": {},
   "outputs": [],
   "source": [
    "dm[0,1]= 5;dm[0,2]=7;dm[0,3]=15;dm[0,4]=22;dm[0,5]=26\n",
    "dm[1,2]= 8;dm[1,3]=21;dm[1,4]=16;dm[1,5]=17\n",
    "dm[2,3]= 6;dm[2,4]=28;dm[2,5]=23\n",
    "dm[3,4]=25;dm[3,5]=22\n",
    "dm[4,5]=4\n",
    "for i in range(6):\n",
    "    for j in range(6):\n",
    "        if j>i:\n",
    "            dm[j,i] = dm[i,j]"
   ]
  },
  {
   "cell_type": "code",
   "execution_count": 9,
   "id": "97d34f2d",
   "metadata": {},
   "outputs": [
    {
     "name": "stdout",
     "output_type": "stream",
     "text": [
      "[[ 0.  5.  7. 15. 22. 26.]\n",
      " [ 5.  0.  8. 21. 16. 17.]\n",
      " [ 7.  8.  0.  6. 28. 23.]\n",
      " [15. 21.  6.  0. 25. 22.]\n",
      " [22. 16. 28. 25.  0.  4.]\n",
      " [26. 17. 23. 22.  4.  0.]]\n"
     ]
    }
   ],
   "source": [
    "print(dm)"
   ]
  },
  {
   "cell_type": "code",
   "execution_count": 10,
   "id": "294fafd7",
   "metadata": {},
   "outputs": [
    {
     "name": "stdout",
     "output_type": "stream",
     "text": [
      "      0     1     2     3     4     5\n",
      "0   0.0   5.0   7.0  15.0  22.0  26.0\n",
      "1   5.0   0.0   8.0  21.0  16.0  17.0\n",
      "2   7.0   8.0   0.0   6.0  28.0  23.0\n",
      "3  15.0  21.0   6.0   0.0  25.0  22.0\n",
      "4  22.0  16.0  28.0  25.0   0.0   4.0\n",
      "5  26.0  17.0  23.0  22.0   4.0   0.0\n"
     ]
    }
   ],
   "source": [
    "dm_pddf = pd.DataFrame(np.array(dm))\n",
    "print(dm_pddf)"
   ]
  },
  {
   "cell_type": "markdown",
   "id": "21b0e44a",
   "metadata": {},
   "source": [
    "### what next\n",
    "I need to use the dm or dm_pddf\n",
    "\n",
    "I will create a function that takes:\n",
    "\n",
    "dm, a clusterID(rowID), combinedClusterSets\n",
    "\n",
    "there are k sets and all sets have a distance between each other\n"
   ]
  },
  {
   "cell_type": "code",
   "execution_count": 11,
   "id": "b10ceb56",
   "metadata": {},
   "outputs": [
    {
     "name": "stdout",
     "output_type": "stream",
     "text": [
      "(15, 4)\n"
     ]
    }
   ],
   "source": [
    "def create_dist_vec(X):\n",
    "    kcnt = len(X)\n",
    "    row_cnt = int(kcnt*(kcnt-1)*.5)\n",
    "    dv = np.array(np.zeros((row_cnt,4)), dtype=object)\n",
    "    print(dv.shape)\n",
    "    k = 0\n",
    "    for i in range(0,kcnt):\n",
    "        for j in range(i+1,kcnt):\n",
    "            dv[k,0] = \"{}\".format(i)\n",
    "            dv[k,1] = \"{}\".format(j)\n",
    "            dv[k,2] = X[i,j]\n",
    "            dv[k,3] = X[i,j]\n",
    "            k=k+1\n",
    "    return dv\n",
    "dv = create_dist_vec(dm)"
   ]
  },
  {
   "cell_type": "code",
   "execution_count": 12,
   "id": "f28aa295",
   "metadata": {},
   "outputs": [
    {
     "name": "stdout",
     "output_type": "stream",
     "text": [
      "[['0' '1' 5.0 5.0]\n",
      " ['0' '2' 7.0 7.0]\n",
      " ['0' '3' 15.0 15.0]\n",
      " ['0' '4' 22.0 22.0]\n",
      " ['0' '5' 26.0 26.0]\n",
      " ['1' '2' 8.0 8.0]\n",
      " ['1' '3' 21.0 21.0]\n",
      " ['1' '4' 16.0 16.0]\n",
      " ['1' '5' 17.0 17.0]\n",
      " ['2' '3' 6.0 6.0]\n",
      " ['2' '4' 28.0 28.0]\n",
      " ['2' '5' 23.0 23.0]\n",
      " ['3' '4' 25.0 25.0]\n",
      " ['3' '5' 22.0 22.0]\n",
      " ['4' '5' 4.0 4.0]]\n"
     ]
    }
   ],
   "source": [
    "print(dv)"
   ]
  },
  {
   "cell_type": "code",
   "execution_count": 13,
   "id": "ddf6c6a6",
   "metadata": {},
   "outputs": [
    {
     "name": "stdout",
     "output_type": "stream",
     "text": [
      "[['4' '5' 4.0 4.0 0.14285714285714285]\n",
      " ['0' '1' 5.0 5.0 0.17857142857142858]\n",
      " ['2' '3' 6.0 6.0 0.21428571428571427]\n",
      " ['0' '2' 7.0 7.0 0.25]\n",
      " ['1' '2' 8.0 8.0 0.2857142857142857]\n",
      " ['0' '3' 15.0 15.0 0.5357142857142857]\n",
      " ['1' '4' 16.0 16.0 0.5714285714285714]\n",
      " ['1' '5' 17.0 17.0 0.6071428571428571]\n",
      " ['1' '3' 21.0 21.0 0.75]\n",
      " ['0' '4' 22.0 22.0 0.7857142857142857]\n",
      " ['3' '5' 22.0 22.0 0.7857142857142857]\n",
      " ['2' '5' 23.0 23.0 0.8214285714285715]\n",
      " ['3' '4' 25.0 25.0 0.8928571428571429]\n",
      " ['0' '5' 26.0 26.0 0.9285714285714285]\n",
      " ['2' '4' 28.0 28.0 1.0]]\n"
     ]
    }
   ],
   "source": [
    "minMul=2.0\n",
    "maxMul=1.0\n",
    "def sort_dv(dist_vec, minMul=1.0, maxMul=1.0):\n",
    "    min_d_vec = dist_vec[:,2]\n",
    "    max_d_vec = dist_vec[:,3]\n",
    "    d_sort_vec = (minMul*min_d_vec/(max(min_d_vec))+maxMul*max_d_vec/(max(max_d_vec)))/(minMul+maxMul)\n",
    "    idx = np.argsort(d_sort_vec)\n",
    "    arshp = (dist_vec.shape[0],5)\n",
    "    dvs = np.array(np.zeros(arshp), dtype=object)\n",
    "    dvs[:,:-1] = dist_vec[idx,:]\n",
    "    dvs[:,4] = d_sort_vec[idx]\n",
    "    return dvs\n",
    "dvs = sort_dv(dv, minMul=minMul, maxMul=maxMul)\n",
    "print(dvs)"
   ]
  },
  {
   "cell_type": "code",
   "execution_count": 14,
   "id": "134b02ef",
   "metadata": {},
   "outputs": [],
   "source": [
    "groups_dict = {}\n",
    "first_kluster = dvs[0,0]\n",
    "groups_dict[\"G01\"] = first_kluster\n",
    "for i in range(dvs.shape[0]):\n",
    "    if dvs[i,0]==first_kluster:\n",
    "        dvs[i,0]=\"G01\"\n",
    "    if dvs[i,1]==first_kluster:\n",
    "        dvs[i,1]=\"G01\"\n",
    "decision_row = dvs[0,:]"
   ]
  },
  {
   "cell_type": "markdown",
   "id": "ed413b8e",
   "metadata": {},
   "source": [
    "### first decision \n",
    "\n",
    "1- get the closest samples [4-5 are closest]\n",
    "\n",
    "2- annotate one of them as G1.\n",
    "\n",
    "3- put the other \"in the spot\" - let the annotator annotate it with G2 or G1\n",
    "   tell the min and max distance the have to each other\n",
    "   \n",
    "4- once the decision is made we either have G1 and G2 or only G1"
   ]
  },
  {
   "cell_type": "code",
   "execution_count": 15,
   "id": "fedda367",
   "metadata": {},
   "outputs": [
    {
     "data": {
      "text/plain": [
       "1"
      ]
     },
     "execution_count": 15,
     "metadata": {},
     "output_type": "execute_result"
    }
   ],
   "source": [
    "len(groups_dict)"
   ]
  },
  {
   "cell_type": "code",
   "execution_count": 16,
   "id": "1deb7782",
   "metadata": {},
   "outputs": [
    {
     "name": "stdout",
     "output_type": "stream",
     "text": [
      "{'G01': '4'}\n",
      "['G01' '5' 4.0 4.0 0.14285714285714285]\n"
     ]
    }
   ],
   "source": [
    "print(groups_dict)\n",
    "print(decision_row)"
   ]
  },
  {
   "cell_type": "code",
   "execution_count": 17,
   "id": "7e731630",
   "metadata": {},
   "outputs": [
    {
     "name": "stdout",
     "output_type": "stream",
     "text": [
      "old_group_elements:<4>\n",
      "new_group_elements1:<['4']>\n",
      "<class 'NoneType'>\n",
      "new_group_elements2:<None>\n"
     ]
    },
    {
     "ename": "TypeError",
     "evalue": "can only join an iterable",
     "output_type": "error",
     "traceback": [
      "\u001b[0;31m---------------------------------------------------------------------------\u001b[0m",
      "\u001b[0;31mTypeError\u001b[0m                                 Traceback (most recent call last)",
      "\u001b[0;32m<ipython-input-17-b1e5624fa119>\u001b[0m in \u001b[0;36m<module>\u001b[0;34m\u001b[0m\n\u001b[1;32m     17\u001b[0m     \u001b[0mprint\u001b[0m\u001b[0;34m(\u001b[0m\u001b[0;34m\"new_group_elements3:<{}>\"\u001b[0m\u001b[0;34m.\u001b[0m\u001b[0mformat\u001b[0m\u001b[0;34m(\u001b[0m\u001b[0mnew_group_elements\u001b[0m\u001b[0;34m)\u001b[0m\u001b[0;34m)\u001b[0m\u001b[0;34m\u001b[0m\u001b[0;34m\u001b[0m\u001b[0m\n\u001b[1;32m     18\u001b[0m \u001b[0;34m\u001b[0m\u001b[0m\n\u001b[0;32m---> 19\u001b[0;31m \u001b[0madd_to_group\u001b[0m\u001b[0;34m(\u001b[0m\u001b[0mgroups_dict\u001b[0m\u001b[0;34m,\u001b[0m \u001b[0mgroup_name\u001b[0m\u001b[0;34m=\u001b[0m\u001b[0;34m\"G01\"\u001b[0m\u001b[0;34m,\u001b[0m \u001b[0mklusterID\u001b[0m\u001b[0;34m=\u001b[0m\u001b[0mdecision_row\u001b[0m\u001b[0;34m[\u001b[0m\u001b[0;36m1\u001b[0m\u001b[0;34m]\u001b[0m\u001b[0;34m,\u001b[0m \u001b[0mdvs\u001b[0m\u001b[0;34m=\u001b[0m\u001b[0mdvs\u001b[0m\u001b[0;34m)\u001b[0m\u001b[0;34m\u001b[0m\u001b[0;34m\u001b[0m\u001b[0m\n\u001b[0m",
      "\u001b[0;32m<ipython-input-17-b1e5624fa119>\u001b[0m in \u001b[0;36madd_to_group\u001b[0;34m(groups_dict, group_name, klusterID, dvs)\u001b[0m\n\u001b[1;32m     14\u001b[0m     \u001b[0mprint\u001b[0m\u001b[0;34m(\u001b[0m\u001b[0;34m\"new_group_elements2:<{}>\"\u001b[0m\u001b[0;34m.\u001b[0m\u001b[0mformat\u001b[0m\u001b[0;34m(\u001b[0m\u001b[0mnew_group_elements\u001b[0m\u001b[0;34m)\u001b[0m\u001b[0;34m)\u001b[0m\u001b[0;34m\u001b[0m\u001b[0;34m\u001b[0m\u001b[0m\n\u001b[1;32m     15\u001b[0m \u001b[0;34m\u001b[0m\u001b[0m\n\u001b[0;32m---> 16\u001b[0;31m     \u001b[0mnew_group_elements\u001b[0m \u001b[0;34m=\u001b[0m \u001b[0;34m','\u001b[0m\u001b[0;34m.\u001b[0m\u001b[0mjoin\u001b[0m\u001b[0;34m(\u001b[0m\u001b[0mnew_group_elements\u001b[0m\u001b[0;34m)\u001b[0m\u001b[0;34m\u001b[0m\u001b[0;34m\u001b[0m\u001b[0m\n\u001b[0m\u001b[1;32m     17\u001b[0m     \u001b[0mprint\u001b[0m\u001b[0;34m(\u001b[0m\u001b[0;34m\"new_group_elements3:<{}>\"\u001b[0m\u001b[0;34m.\u001b[0m\u001b[0mformat\u001b[0m\u001b[0;34m(\u001b[0m\u001b[0mnew_group_elements\u001b[0m\u001b[0;34m)\u001b[0m\u001b[0;34m)\u001b[0m\u001b[0;34m\u001b[0m\u001b[0;34m\u001b[0m\u001b[0m\n\u001b[1;32m     18\u001b[0m \u001b[0;34m\u001b[0m\u001b[0m\n",
      "\u001b[0;31mTypeError\u001b[0m: can only join an iterable"
     ]
    }
   ],
   "source": [
    "def add_to_group(groups_dict, group_name, klusterID, dvs):\n",
    "    # now add klusterID to group with name group_name in the groups_dict\n",
    "    if group_name is None or group_name==\"\":\n",
    "        group_name = str(len(groups_dict)+1).zfill(2)\n",
    "        groups_dict[group_name] = \"\"\n",
    "    old_group_elements = groups_dict[group_name]\n",
    "    print(\"old_group_elements:<{}>\".format(old_group_elements))\n",
    "    \n",
    "    new_group_elements = old_group_elements.split(',')\n",
    "    print(\"new_group_elements1:<{}>\".format(new_group_elements))\n",
    "    \n",
    "    new_group_elements = new_group_elements.append([str(klusterID)])\n",
    "    print(type(new_group_elements))\n",
    "    print(\"new_group_elements2:<{}>\".format(new_group_elements))\n",
    "    \n",
    "    new_group_elements = ','.join(new_group_elements)\n",
    "    print(\"new_group_elements3:<{}>\".format(new_group_elements))\n",
    "\n",
    "add_to_group(groups_dict, group_name=\"G01\", klusterID=decision_row[1], dvs=dvs)"
   ]
  },
  {
   "cell_type": "code",
   "execution_count": null,
   "id": "95e7fea3",
   "metadata": {},
   "outputs": [],
   "source": []
  }
 ],
 "metadata": {
  "kernelspec": {
   "display_name": "venv_hand_skel",
   "language": "python",
   "name": "venv_hand_skel"
  },
  "language_info": {
   "codemirror_mode": {
    "name": "ipython",
    "version": 3
   },
   "file_extension": ".py",
   "mimetype": "text/x-python",
   "name": "python",
   "nbconvert_exporter": "python",
   "pygments_lexer": "ipython3",
   "version": "3.7.4"
  }
 },
 "nbformat": 4,
 "nbformat_minor": 5
}
