{
 "cells": [
  {
   "cell_type": "code",
   "execution_count": null,
   "metadata": {},
   "outputs": [],
   "source": [
    "#import scriptFile as sF, shutil,  visualize as funcVis, importlib as impL, os, projRelatedHelperFuncs as prHF\n",
    "import torch\n",
    "import numpy as np\n",
    "print(torch.__version__)\n",
    "from collections import Counter\n",
    "import pandas as pd \n",
    "import os\n",
    "import importlib as impL"
   ]
  },
  {
   "cell_type": "code",
   "execution_count": null,
   "metadata": {},
   "outputs": [],
   "source": [
    "import sys\n",
    "sys.path.append(\"/home/doga/GithUBuntU/keyhandshapediscovery\")\n",
    "#sys.path.extend(['/home/doga/GithUBuntU/keyhandshapediscovery'])\n",
    "import helperFuncs as funcH\n",
    "import dataLoaderFuncs as funcD\n",
    "import projRelatedHelperFuncs as prHF #prepare_data_4\n",
    "import dataLoaderFuncs as dlF #HandCraftedDataset\n",
    "import modelFuncs as moF #MLP\n",
    "import scriptFile as sf\n",
    "impL.reload(funcH)\n",
    "impL.reload(funcD)\n",
    "impL.reload(prHF)\n",
    "impL.reload(dlF)\n",
    "impL.reload(moF)\n",
    "impL.reload(sf)\n",
    "funcH.setPandasDisplayOpts()"
   ]
  },
  {
   "cell_type": "code",
   "execution_count": null,
   "metadata": {
    "collapsed": true
   },
   "outputs": [],
   "source": [
    "nos = 11\n",
    "labelNames = prHF.load_label_names(nos)\n",
    "results_dir = funcH.getVariableByComputerName('results_dir')  # '/media/dg/SSD_Data/DataPath/bdResults'\n",
    "baseLineResultFolder = os.path.join(results_dir, 'baseResults')  # '/media/dg/SSD_Data/DataPath/bdResults/baseResults'\n",
    "baseResFiles = funcH.getFileList(baseLineResultFolder, startString=\"\", endString=\"_\"+str(nos)+\"_KMeans_256.npz\", sortList=False)\n",
    "for f in baseResFiles:\n",
    "    labels_true, labels_pred = prHF.loadBaseResult(f)\n",
    "    labels_true, labels_pred, _ = funcH.getNonZeroLabels(labels_true, labels_pred)\n",
    "    _confMat_preds, kluster2Classes, kr_pdf = funcH.countPredictionsForConfusionMat(labels_true, labels_pred, labelNames=labelNames)\n",
    "    sampleCount = np.sum(np.sum(_confMat_preds))\n",
    "    acc = 100 * np.sum(np.diag(_confMat_preds)) / sampleCount\n",
    "    print(f, labels_true.shape, labels_pred.shape, acc)\n",
    "    print(kr_pdf)\n",
    "    print(\"****\")"
   ]
  },
  {
   "cell_type": "code",
   "execution_count": null,
   "metadata": {
    "collapsed": true
   },
   "outputs": [],
   "source": [
    "dataIdent=\"hgsk\"\n",
    "nos=11\n",
    "pca_dim=128\n",
    "verbose=0\n",
    "ft, lb, lb_sui, lb_map = prHF.combine_pca_hospisign_data(dataIdent=dataIdent, nos=nos, pca_dim=pca_dim, verbose=verbose)\n",
    "class_names = np.asarray(lb_map[\"khsName\"])"
   ]
  },
  {
   "cell_type": "code",
   "execution_count": null,
   "metadata": {
    "collapsed": true
   },
   "outputs": [],
   "source": [
    "impL.reload(funcH)\n",
    "impL.reload(dlF)\n",
    "impL.reload(moF)\n",
    "impL.reload(sf)\n",
    "impL.reload(prHF)\n",
    "resultDict = prHF.runClusteringOnFeatSet_Aug2020(ft, lb, lb_map, dataToUse=dataIdent, numOfSigns=nos, pcaCount=pca_dim, clustCntVec=[256])"
   ]
  },
  {
   "cell_type": "code",
   "execution_count": null,
   "metadata": {
    "collapsed": true
   },
   "outputs": [],
   "source": [
    "impL.reload(prHF)\n",
    "prHF.traverseBaseResultsFolder_Aug2020()"
   ]
  },
  {
   "cell_type": "code",
   "execution_count": null,
   "metadata": {
    "collapsed": true
   },
   "outputs": [],
   "source": [
    "impL.reload(prHF)\n",
    "prHF.getBaseResults_Aug2020(dataToUse=\"hog\", pcaCount=256, numOfSigns=11, displayResults=True, baseResultFileName='')"
   ]
  },
  {
   "cell_type": "code",
   "execution_count": null,
   "metadata": {
    "collapsed": true
   },
   "outputs": [],
   "source": [
    "print(class_names)"
   ]
  },
  {
   "cell_type": "code",
   "execution_count": null,
   "metadata": {
    "collapsed": true
   },
   "outputs": [],
   "source": [
    "impL.reload(prHF)\n",
    "labelNames, labels, predictionsDict, cluster_runs, N = prHF.load_labels_pred_for_ensemble_Aug2020(class_names)\n",
    "prHF.ensemble_cluster_analysis(cluster_runs, predictionsDict, labels,\n",
    "                     consensus_clustering_max_k=256, useNZ=False, nos=11,\n",
    "                     resultsToCombineDescriptorStr=\"hogsnsk\",\n",
    "                     labelNames = labelNames, verbose=True)"
   ]
  },
  {
   "cell_type": "code",
   "execution_count": null,
   "metadata": {
    "collapsed": true
   },
   "outputs": [],
   "source": [
    "\n"
   ]
  },
  {
   "cell_type": "code",
   "execution_count": null,
   "metadata": {
    "collapsed": true
   },
   "outputs": [],
   "source": [
    "x = np.zeros((5, 5), dtype=np.float32)"
   ]
  },
  {
   "cell_type": "code",
   "execution_count": null,
   "metadata": {},
   "outputs": [],
   "source": [
    "data_ident = \"sk\"\n",
    "ft, lb, lb_sui, lb_map = prHF.combine_pca_hospisign_data(data_ident, pca_dim=96, nos=41, verbose=0)\n",
    "uniqLabs = np.unique(lb)\n",
    "classCount = len(uniqLabs)"
   ]
  },
  {
   "cell_type": "code",
   "execution_count": null,
   "metadata": {},
   "outputs": [],
   "source": [
    "print(\"uniqLabs=\", uniqLabs, \", classCount_=\"+ data_ident, classCount)\n",
    "class_names = np.asarray(lb_map[\"khsName\"])\n",
    "print(class_names)"
   ]
  },
  {
   "cell_type": "code",
   "execution_count": null,
   "metadata": {},
   "outputs": [],
   "source": [
    "cntVec = []\n",
    "for label in list(uniqLabs):\n",
    "    inds = funcH.getInds(np.array(lb), label)\n",
    "    cnt = len(inds)\n",
    "    print(label, class_names[label], cnt)\n",
    "    cntVec.append(cnt)\n",
    "    #khs_cnt_df.append({'khsID':label,'khsCnt':cnt})"
   ]
  },
  {
   "cell_type": "code",
   "execution_count": null,
   "metadata": {},
   "outputs": [],
   "source": [
    "khs_cnt_df = pd.DataFrame({'khsName':class_names, 'khsCnt':cntVec})\n",
    "khs_cnt_df = khs_cnt_df.sort_values(by=['khsCnt'], ascending=False)\n",
    "print(khs_cnt_df)"
   ]
  },
  {
   "cell_type": "code",
   "execution_count": null,
   "metadata": {
    "collapsed": true
   },
   "outputs": [],
   "source": [
    "khs_cnt_df.to_csv('/home/doga/Desktop/khsCnt_67Class.csv')"
   ]
  },
  {
   "cell_type": "code",
   "execution_count": null,
   "metadata": {
    "collapsed": true
   },
   "outputs": [],
   "source": []
  },
  {
   "cell_type": "code",
   "execution_count": null,
   "metadata": {
    "collapsed": true
   },
   "outputs": [],
   "source": []
  },
  {
   "cell_type": "code",
   "execution_count": null,
   "metadata": {
    "collapsed": true
   },
   "outputs": [],
   "source": []
  },
  {
   "cell_type": "code",
   "execution_count": null,
   "metadata": {
    "collapsed": true
   },
   "outputs": [],
   "source": [
    "def get_hospisign_labels(nos=11, sortBy=None, verbose=0):\n",
    "    base_dir = funcH.getVariableByComputerName('base_dir')\n",
    "    baseFold = os.path.join(base_dir, \"neuralNetHandImages_nos\" + str(nos) + \"_rs224\", \"imgs\")\n",
    "    list_dict_file = os.path.join(baseFold, \"list_dict.txt\")\n",
    "    a = pd.read_csv(list_dict_file, delimiter=\"*\", header=None,\n",
    "                    names=[\"sign\", \"user\", \"rep\", \"frameID\", \"khsID\", \"khsName\", \"hand\"])\n",
    "    b, uniqKHSinds = np.unique(np.asarray(a[\"khsID\"]), return_index=True)\n",
    "    labelsAll = np.asarray(a[\"khsID\"], dtype=int)\n",
    "    namesAll = np.asarray(a[\"khsName\"])\n",
    "\n",
    "    labels_sui = np.squeeze(np.asarray(a[[\"sign\", \"user\", \"khsID\"]]))\n",
    "    # get sort index first\n",
    "    assignedKHSinds = labelsAll[uniqKHSinds]\n",
    "    selectedKHSnames = np.array([str(np.char.strip(n)) for n in namesAll[uniqKHSinds]])\n",
    "\n",
    "    if verbose > 1:\n",
    "        print(labelsAll.shape, labelsAll.dtype)\n",
    "    sortedLabelsAll, sortedLabelsMap = funcH.reset_labels(labelsAll, assignedKHSinds, selectedKHSnames, sortBy=sortBy,\n",
    "                                                          verbose=verbose)\n",
    "    if verbose > 1:\n",
    "        print(\"sortedLabelsAll:\\n\", sortedLabelsAll.head())\n",
    "        print(\"sortedLabelsMap:\\n\", sortedLabelsMap)\n",
    "        print(labels_sui.shape, labels_sui.dtype)\n",
    "    labels_sui[:, 2] = np.squeeze(np.array(sortedLabelsAll))\n",
    "\n",
    "    lb_map = np.vstack((sortedLabelsMap[\"labelIDs\"], sortedLabelsMap[\"labelStrings\"])).T\n",
    "\n",
    "    x = Counter(np.squeeze(labelsAll).astype(int))\n",
    "\n",
    "    khsCntVec = [v for k, v in x.most_common()]\n",
    "    khsIndex = [k for k, v in x.most_common()]\n",
    "    if verbose > 2:\n",
    "        print(\"x:\\n\", x)\n",
    "        khsNameCol = [str(np.squeeze(lb_map[np.where(lb_map[:, 0] == k), 1])) for k, v in x.most_common()]\n",
    "        print(\"khsNameCol:\\n\", khsNameCol)\n",
    "        print(\"khsCntVec:\\n\", khsCntVec)\n",
    "        print(\"khsIndex:\\n\", khsIndex)\n",
    "    khsCntCol = np.asarray(khsCntVec)[np.argsort(khsIndex)]\n",
    "    if verbose > 2:\n",
    "        print(\"khsCntVec(sorted accordingly):\\n\", khsCntCol)\n",
    "\n",
    "    lb_map_new = pd.DataFrame({\"khsID\": lb_map[:, 0], \"khsName\": lb_map[:, 1], \"khsCnt\": khsCntCol})\n",
    "    lb_map_cnt = lb_map_new.sort_values(by='khsCnt', ascending=False)\n",
    "    lb_map_id = lb_map_new.sort_values(by='khsID', ascending=True)\n",
    "    lb_map_name = lb_map_new.sort_values(by='khsName', ascending=True)\n",
    "    if verbose > 1:\n",
    "        print(\"lb_map_cnt=\\n\", lb_map_cnt)\n",
    "        print(\"lb_map_id=\\n\", lb_map_id)\n",
    "        print(\"lb_map_name=\\n\", lb_map_name)\n",
    "\n",
    "    hospisign_labels = {\n",
    "        \"labels\": sortedLabelsAll,\n",
    "        \"labels_sui\": labels_sui,\n",
    "        \"khsInds\": sortedLabelsMap[\"labelIDs\"],\n",
    "        \"khsNames\": sortedLabelsMap[\"labelStrings\"],\n",
    "        \"label_map\": lb_map_id,\n",
    "        \"label_map_cnt\": lb_map_cnt,\n",
    "        \"label_map_name\": lb_map_name,\n",
    "    }\n",
    "\n",
    "    return hospisign_labels"
   ]
  },
  {
   "cell_type": "code",
   "execution_count": null,
   "metadata": {},
   "outputs": [],
   "source": [
    "hospisign_labels = get_hospisign_labels(nos=41, sortBy=None, verbose=0)"
   ]
  },
  {
   "cell_type": "code",
   "execution_count": null,
   "metadata": {
    "collapsed": true
   },
   "outputs": [],
   "source": []
  }
 ],
 "metadata": {
  "kernelspec": {
   "display_name": "venv",
   "language": "python",
   "name": "venv"
  },
  "language_info": {
   "codemirror_mode": {
    "name": "ipython",
    "version": 3
   },
   "file_extension": ".py",
   "mimetype": "text/x-python",
   "name": "python",
   "nbconvert_exporter": "python",
   "pygments_lexer": "ipython3",
   "version": "3.7.4"
  }
 },
 "nbformat": 4,
 "nbformat_minor": 2
}
