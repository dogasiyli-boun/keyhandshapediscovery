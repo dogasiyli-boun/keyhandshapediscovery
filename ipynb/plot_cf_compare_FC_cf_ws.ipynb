{
 "cells": [
  {
   "cell_type": "code",
   "execution_count": null,
   "metadata": {},
   "outputs": [],
   "source": [
    "import socket\n",
    "def get_var_by_comp_name(variableName):\n",
    "    curCompName = socket.gethostname()\n",
    "    retVal = None\n",
    "    if variableName == 'khs_dir':\n",
    "        if curCompName == 'doga-MSISSD':\n",
    "            base_dir = '/mnt/USB_HDD_1TB/GitHub/keyhandshapediscovery'  # for bogazici kasa\n",
    "        elif curCompName == 'WsUbuntu05' or curCompName == 'wsubuntu':\n",
    "            base_dir = '/home/wsubuntu/GitHub/keyhandshapediscovery'  # for WS Doga DHO\n",
    "        elif curCompName == 'doga-msi-ubu':\n",
    "            base_dir = None  # for laptop\n",
    "        retVal = base_dir\n",
    "    if variableName == 'data_path':\n",
    "        if curCompName == 'doga-MSISSD':\n",
    "            base_dir = '/mnt/USB_HDD_1TB/Datasets'  # for bogazici kasa\n",
    "        elif curCompName == 'WsUbuntu05' or curCompName == 'wsubuntu':\n",
    "            base_dir = '/mnt/SSD_Data/DataPath'  # for WS Doga DHO\n",
    "        elif curCompName == 'doga-msi-ubu':\n",
    "            base_dir = None  # for laptop\n",
    "        retVal = base_dir\n",
    "    if variableName == 'experiment_path':\n",
    "        if curCompName == 'doga-MSISSD':\n",
    "            base_dir = '/mnt/USB_HDD_1TB/GitHub/keyhandshapediscovery/experiments/SPARSE_TORCH'  # for bogazici kasa\n",
    "        elif curCompName == 'WsUbuntu05' or curCompName == 'wsubuntu':\n",
    "            base_dir = '/mnt/SSD_Data/vaesae_experiments'  # for WS Doga DHO\n",
    "        elif curCompName == 'doga-msi-ubu':\n",
    "            base_dir = None  # for laptop\n",
    "        retVal = base_dir\n",
    "        \n",
    "    print(curCompName + '_' + variableName, '=',  retVal)\n",
    "    if retVal is None:\n",
    "        os.error(5)\n",
    "    return retVal\n",
    "\n",
    "khs_dir = get_var_by_comp_name('khs_dir')\n",
    "data_path = get_var_by_comp_name('data_path')\n",
    "experiment_path = get_var_by_comp_name('experiment_path')"
   ]
  },
  {
   "cell_type": "code",
   "execution_count": null,
   "metadata": {},
   "outputs": [],
   "source": [
    "import sys, importlib as impL\n",
    "import os\n",
    "sys.path.insert(1,os.path.join(khs_dir, 'vae_torch'))\n",
    "sys.path.insert(1,khs_dir)\n",
    "import vae_torch_model as vtm\n",
    "import vae_torch as vt\n",
    "#from data_classes import khs_dataset_v2\n",
    "import vae_scripts as vs\n",
    "import sae_torch as st\n",
    "import numpy as np\n",
    "import matplotlib.pyplot as plt\n",
    "%matplotlib inline\n",
    "import vae_utils as vu"
   ]
  },
  {
   "cell_type": "code",
   "execution_count": null,
   "metadata": {},
   "outputs": [],
   "source": [
    "experiments_folder=os.path.join(experiment_path, 'FM')\n",
    "exp_base_name='exp_conv_ae_simple_is28_cf'\n",
    "ae_f_name_base='ae_ft_conv_ae_simple_is28.npy'\n",
    "cf_int_arr=np.array([451,452, 453, 454,455,456,457])\n",
    "max_act_ep=200"
   ]
  },
  {
   "cell_type": "code",
   "execution_count": null,
   "metadata": {},
   "outputs": [],
   "source": [
    "#loss_key='reconstruction'  bottleneck_act, bottleneck_kmeans, sparsity, reconstruction\n",
    "#data_log_keys = ['te']   'tr_te' 'te'\n",
    "loss_key_list = ['bottleneck_act', 'bottleneck_kmeans', 'sparsity', 'reconstruction']\n",
    "data_log_keys = ['tr_te', 'te']"
   ]
  },
  {
   "cell_type": "code",
   "execution_count": null,
   "metadata": {
    "scrolled": true
   },
   "outputs": [],
   "source": [
    "impL.reload(vu)\n",
    "cf_int_arr=np.array([455,456,457,458])\n",
    "title_add_front_str = 'l2_norm-'\n",
    "save_to_fold=os.path.join(experiments_folder,'l2_norm')\n",
    "vu.plot_cf_compare_list(cf_int_arr, data_log_keys, loss_key_list, title_add_front_str, \n",
    "                        experiments_folder, exp_base_name, ae_f_name_base,\n",
    "                        save_to_fold=save_to_fold)"
   ]
  },
  {
   "cell_type": "code",
   "execution_count": null,
   "metadata": {
    "scrolled": true
   },
   "outputs": [],
   "source": [
    "impL.reload(vu)\n",
    "cf_int_arr=np.array([451,452, 453, 454])\n",
    "title_add_front_str = 'kl_divergence and vae - '\n",
    "save_to_fold=os.path.join(experiments_folder,'kl_vae')\n",
    "vu.plot_cf_compare_list(cf_int_arr, data_log_keys, loss_key_list, title_add_front_str, \n",
    "                        experiments_folder, exp_base_name, ae_f_name_base,\n",
    "                        save_to_fold=save_to_fold)"
   ]
  },
  {
   "cell_type": "code",
   "execution_count": null,
   "metadata": {
    "scrolled": true
   },
   "outputs": [],
   "source": [
    "impL.reload(vu)\n",
    "cf_int_arr=np.array([454,455,458,459,460])\n",
    "title_add_front_str = 'kl-l2 best acc - '\n",
    "max_act_ep = 10\n",
    "save_to_fold=os.path.join(experiments_folder,'kl_vae_l2')\n",
    "vu.plot_cf_compare_list(cf_int_arr, data_log_keys, loss_key_list, title_add_front_str, \n",
    "                        experiments_folder, exp_base_name, ae_f_name_base, max_act_ep=max_act_ep,\n",
    "                        save_to_fold=save_to_fold)"
   ]
  },
  {
   "cell_type": "code",
   "execution_count": null,
   "metadata": {},
   "outputs": [],
   "source": [
    "import importlib as impL\n",
    "impL.reload(vu)\n",
    "vu.plot_cf(cf_int=458, data_log_keys = ['tr_te','te'], k_loss_disp_list=['sparsity','bottleneck_act'], \n",
    "           max_act_ep=None,select_id_type='last',\n",
    "           plot_cnt = 5,                   \n",
    "           experiments_folder=experiments_folder,\n",
    "           exp_base_name=exp_base_name, ae_f_name_base=ae_f_name_base)"
   ]
  },
  {
   "cell_type": "code",
   "execution_count": null,
   "metadata": {},
   "outputs": [],
   "source": []
  }
 ],
 "metadata": {
  "kernelspec": {
   "display_name": "Python 3",
   "language": "python",
   "name": "python3"
  },
  "language_info": {
   "codemirror_mode": {
    "name": "ipython",
    "version": 3
   },
   "file_extension": ".py",
   "mimetype": "text/x-python",
   "name": "python",
   "nbconvert_exporter": "python",
   "pygments_lexer": "ipython3",
   "version": "3.7.7"
  }
 },
 "nbformat": 4,
 "nbformat_minor": 2
}
