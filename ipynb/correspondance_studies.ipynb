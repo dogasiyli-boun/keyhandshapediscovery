{
 "cells": [
  {
   "cell_type": "markdown",
   "metadata": {},
   "source": [
    "so I will have data as ndarray at bottleneck as N by D\n",
    "I will have the class labels acquired by kmeans\n",
    "I want to find correspondance samples as\n",
    "a) two random samples that are in cluster\n",
    "b) some sample and the center sample\n",
    "\n",
    "which wil be acquired as in and out indices by a function that takes nxd array and cluster labels"
   ]
  },
  {
   "cell_type": "code",
   "execution_count": 114,
   "metadata": {
    "scrolled": true
   },
   "outputs": [],
   "source": [
    "import importlib as impL\n",
    "import sys\n",
    "sys.path.insert(1,'/home/doga/GithUBuntU/keyhandshapediscovery/vae_torch')\n",
    "sys.path.insert(1,'/home/doga/GithUBuntU/keyhandshapediscovery')\n",
    "import vae_torch_model as vtm\n",
    "import helperFuncs as funcH\n",
    "import numpy as np"
   ]
  },
  {
   "cell_type": "code",
   "execution_count": 207,
   "metadata": {
    "collapsed": true
   },
   "outputs": [],
   "source": [
    "def load_from_saved_corr_file(fn = '/home/doga/Desktop/correspondance_find.npz'):\n",
    "    a = np.load(fn)\n",
    "    predictions = a['predictions']\n",
    "    bottleneck_vec = a['bottleneck_vec']\n",
    "    labels = a['labels']\n",
    "    print(\"loaded from file - \", fn)\n",
    "    print(predictions.shape)\n",
    "    print(bottleneck_vec.shape)\n",
    "    print(labels.shape)\n",
    "    return bottleneck_vec, predictions, labels"
   ]
  },
  {
   "cell_type": "code",
   "execution_count": 209,
   "metadata": {},
   "outputs": [
    {
     "name": "stdout",
     "output_type": "stream",
     "text": [
      "loaded from file -  /home/doga/Desktop/correspondance_find_2.npz\n",
      "(60000,)\n",
      "(60000, 32)\n",
      "(60000,)\n"
     ]
    }
   ],
   "source": [
    "# np.savez('/home/doga/Desktop/correspondance_find.npz', bottleneck_vec=bottleneck_vec, predictions=pred_vec, labels=lab_vec)\n",
    "bottleneck_vec, predictions, labels = load_from_saved_corr_file('/home/doga/Desktop/correspondance_find_2.npz')"
   ]
  },
  {
   "cell_type": "code",
   "execution_count": 112,
   "metadata": {},
   "outputs": [
    {
     "name": "stdout",
     "output_type": "stream",
     "text": [
      "[[0.62174144 0.68211817 0.24458723]\n",
      " [0.50007153 0.74286471 0.06219046]\n",
      " [0.36406782 0.67564379 0.02153782]\n",
      " [0.12785142 0.50176279 0.51418295]\n",
      " [0.24824411 0.56888874 0.05086619]\n",
      " [0.83598948 0.19389137 0.74928321]\n",
      " [0.12616682 0.82114396 0.90132345]\n",
      " [0.28343164 0.07044607 0.223009  ]\n",
      " [0.07490857 0.91460312 0.81610949]\n",
      " [0.47475892 0.08782649 0.93664046]]\n"
     ]
    }
   ],
   "source": [
    "b_v = np.random.rand(10,3)\n",
    "print(b_v)"
   ]
  },
  {
   "cell_type": "code",
   "execution_count": 178,
   "metadata": {
    "scrolled": true
   },
   "outputs": [
    {
     "name": "stdout",
     "output_type": "stream",
     "text": [
      "    in  out\n",
      "0    0    1\n",
      "1    4    1\n",
      "2    5    2\n",
      "3    5    1\n",
      "4    3    1\n",
      "5    4    3\n",
      "6    0    3\n",
      "7    1    2\n",
      "8    2    2\n",
      "9    3    3\n",
      "10   2    1\n",
      "11   3    2\n",
      "12   8    0\n",
      "13   5    3\n",
      "14   1    1\n",
      "15   7    1\n",
      "16   8    1\n",
      "17   8    3\n",
      "18   5    0\n",
      "19   8    2\n",
      "20   4    0\n",
      "21   1    3\n",
      "22   3    0\n",
      "23   9    2\n",
      "24   9    1\n",
      "25   0    0\n",
      "26   9    0\n",
      "27   1    0\n",
      "28   6    0\n",
      "29   7    0\n",
      "30   9    3\n",
      "31   0    2\n",
      "32   2    0\n",
      "33   6    1\n",
      "34   4    2\n",
      "35   2    3\n",
      "   klusterID  sampleID  distanceEuc  num_of_samples\n",
      "0          0         2     0.194758               4\n",
      "1          1         9     0.467323               4\n",
      "2          2         6     0.511955               2\n"
     ]
    }
   ],
   "source": [
    "impL.reload(funcH)\n",
    "corr_inds, centroid_df = funcH.get_cluster_correspondance_ids(b_v, cluster_ids=[0,0,0,0,1,1,2,2,1,1], correspondance_type=\"knear4\", verbose=0)\n",
    "print(pd_df({\"in\":corr_inds[0],\"out\":corr_inds[1]}))\n",
    "print(centroid_df)"
   ]
  },
  {
   "cell_type": "code",
   "execution_count": 150,
   "metadata": {
    "scrolled": true
   },
   "outputs": [],
   "source": [
    "a,  centroid_df = get_cluster_correspondance_ids(bottleneck_vec, predictions, correspondance_type=\"shuffle\")"
   ]
  },
  {
   "cell_type": "code",
   "execution_count": 47,
   "metadata": {
    "collapsed": true
   },
   "outputs": [],
   "source": [
    "import vae_scripts as vs"
   ]
  },
  {
   "cell_type": "code",
   "execution_count": null,
   "metadata": {},
   "outputs": [],
   "source": [
    "vs.run_compare_list(experiments_folder=\"/home/doga/DataFolder/vaesae_experiments_cor\",\n",
    "                     data_log_keys=['tr_te', 'te'],\n",
    "                     loss_key_list=[ 'bottleneck_kmeans', 'reconstruction'],\n",
    "                     exp_base_name='exp_linear_vae_FMNIST_is28_cf',\n",
    "                     ae_f_name_base='ae_ft_linear_vae_FMNIST_is28.npy')"
   ]
  },
  {
   "cell_type": "code",
   "execution_count": null,
   "metadata": {},
   "outputs": [
    {
     "name": "stdout",
     "output_type": "stream",
     "text": [
      "tr_te  - log is loaded with len:  33\n",
      "te  - log is loaded with len:  33\n",
      "skipping -  valid loss\n",
      "skipping -  reconstruction\n",
      "skipping -  sparsity\n",
      "bottleneck_kmeans :\n",
      "skipping -  bottleneck_act\n",
      "0*/home/doga/DataFolder/vaesae_experiments_cor/exp_linear_vae_FMNIST_is28_cf508/btl_000_tr_va_.png*\n",
      "0*/home/doga/DataFolder/vaesae_experiments_cor/exp_linear_vae_FMNIST_is28_cf508/btl_000_tr_te_.png*\n",
      "1*/home/doga/DataFolder/vaesae_experiments_cor/exp_linear_vae_FMNIST_is28_cf508/btl_016_tr_va_.png*\n",
      "1*/home/doga/DataFolder/vaesae_experiments_cor/exp_linear_vae_FMNIST_is28_cf508/btl_016_tr_te_.png*\n",
      "2*/home/doga/DataFolder/vaesae_experiments_cor/exp_linear_vae_FMNIST_is28_cf508/btl_032_tr_va_.png*\n",
      "2*/home/doga/DataFolder/vaesae_experiments_cor/exp_linear_vae_FMNIST_is28_cf508/btl_032_tr_te_.png*\n"
     ]
    }
   ],
   "source": [
    "import vae_utils as vu\n",
    "impL.reload(vu)\n",
    "vu.plot_cf(cf_int=508, data_log_keys = ['tr_te', 'te'], max_act_ep=55, plot_cnt = 3,\n",
    "            select_id_type='linspace', k_loss_disp_list={'bottleneck_kmeans'},\n",
    "            experiments_folder='/home/doga/DataFolder/vaesae_experiments_cor',\n",
    "            exp_base_name='exp_linear_vae_FMNIST_is28_cf', ae_f_name_base='ae_ft_linear_vae_FMNIST_is28.npy')"
   ]
  },
  {
   "cell_type": "code",
   "execution_count": 148,
   "metadata": {},
   "outputs": [
    {
     "name": "stdout",
     "output_type": "stream",
     "text": [
      "(45,)\n",
      "(10, 10)\n"
     ]
    },
    {
     "ename": "IndexError",
     "evalue": "index 4 is out of bounds for axis 0 with size 4",
     "output_type": "error",
     "traceback": [
      "\u001b[0;31m---------------------------------------------------------------------------\u001b[0m",
      "\u001b[0;31mIndexError\u001b[0m                                Traceback (most recent call last)",
      "\u001b[0;32m<ipython-input-148-5d14494f5661>\u001b[0m in \u001b[0;36m<module>\u001b[0;34m\u001b[0m\n\u001b[0;32m----> 1\u001b[0;31m \u001b[0mget_cluster_correspondance_ids\u001b[0m\u001b[0;34m(\u001b[0m\u001b[0mb_v\u001b[0m\u001b[0;34m,\u001b[0m \u001b[0mcluster_ids\u001b[0m\u001b[0;34m=\u001b[0m\u001b[0;34m[\u001b[0m\u001b[0;36m0\u001b[0m\u001b[0;34m,\u001b[0m\u001b[0;36m0\u001b[0m\u001b[0;34m,\u001b[0m\u001b[0;36m0\u001b[0m\u001b[0;34m,\u001b[0m\u001b[0;36m0\u001b[0m\u001b[0;34m,\u001b[0m\u001b[0;36m1\u001b[0m\u001b[0;34m,\u001b[0m\u001b[0;36m1\u001b[0m\u001b[0;34m,\u001b[0m\u001b[0;36m2\u001b[0m\u001b[0;34m,\u001b[0m\u001b[0;36m2\u001b[0m\u001b[0;34m,\u001b[0m\u001b[0;36m1\u001b[0m\u001b[0;34m,\u001b[0m\u001b[0;36m1\u001b[0m\u001b[0;34m]\u001b[0m\u001b[0;34m,\u001b[0m \u001b[0mcorrespondance_type\u001b[0m\u001b[0;34m=\u001b[0m\u001b[0;34m\"knear3\"\u001b[0m\u001b[0;34m,\u001b[0m \u001b[0mverbose\u001b[0m\u001b[0;34m=\u001b[0m\u001b[0;36m1\u001b[0m\u001b[0;34m)\u001b[0m\u001b[0;34m\u001b[0m\u001b[0;34m\u001b[0m\u001b[0m\n\u001b[0m",
      "\u001b[0;32m<ipython-input-147-46bc01f1e91a>\u001b[0m in \u001b[0;36mget_cluster_correspondance_ids\u001b[0;34m(X, cluster_ids, correspondance_type, verbose)\u001b[0m\n\u001b[1;32m     47\u001b[0m             \u001b[0;31m# d_inds are from 0 to len(cluster_inds)\u001b[0m\u001b[0;34m\u001b[0m\u001b[0;34m\u001b[0m\u001b[0;34m\u001b[0m\u001b[0m\n\u001b[1;32m     48\u001b[0m             \u001b[0;31m# we want to switcth them with real cluster_inds\u001b[0m\u001b[0;34m\u001b[0m\u001b[0;34m\u001b[0m\u001b[0;34m\u001b[0m\u001b[0m\n\u001b[0;32m---> 49\u001b[0;31m             \u001b[0md_inds\u001b[0m \u001b[0;34m=\u001b[0m \u001b[0mcluster_inds\u001b[0m\u001b[0;34m[\u001b[0m\u001b[0md_inds\u001b[0m\u001b[0;34m]\u001b[0m\u001b[0;34m\u001b[0m\u001b[0;34m\u001b[0m\u001b[0m\n\u001b[0m\u001b[1;32m     50\u001b[0m             \u001b[0;31m#d_inds.shape = [len(cluster_inds), k]\u001b[0m\u001b[0;34m\u001b[0m\u001b[0;34m\u001b[0m\u001b[0;34m\u001b[0m\u001b[0m\n\u001b[1;32m     51\u001b[0m             \u001b[0;31m#each row represents a sample and all columns represent its nearest neighbours\u001b[0m\u001b[0;34m\u001b[0m\u001b[0;34m\u001b[0m\u001b[0;34m\u001b[0m\u001b[0m\n",
      "\u001b[0;31mIndexError\u001b[0m: index 4 is out of bounds for axis 0 with size 4"
     ]
    }
   ],
   "source": [
    "get_cluster_correspondance_ids(b_v, cluster_ids=[0,0,0,0,1,1,2,2,1,1], correspondance_type=\"knear3\", verbose=1)"
   ]
  },
  {
   "cell_type": "code",
   "execution_count": 212,
   "metadata": {},
   "outputs": [
    {
     "name": "stdout",
     "output_type": "stream",
     "text": [
      "loaded from file -  /home/doga/Desktop/correspondance_find_2.npz\n",
      "(60000,)\n",
      "(60000, 32)\n",
      "(60000,)\n"
     ]
    }
   ],
   "source": [
    "bottleneck_vec, pred_vec, labels = load_from_saved_corr_file('/home/doga/Desktop/correspondance_find_2.npz')"
   ]
  },
  {
   "cell_type": "code",
   "execution_count": 235,
   "metadata": {
    "collapsed": true
   },
   "outputs": [],
   "source": [
    "bottleneck_vec = b_v\n",
    "pred_vec=np.asarray([0,0,0,0,1,1,2,2,1,1],dtype=int)\n",
    "labels=np.asarray([2,2,2,1,0,0,0,3,3,3],dtype=int)"
   ]
  },
  {
   "cell_type": "code",
   "execution_count": 240,
   "metadata": {},
   "outputs": [
    {
     "data": {
      "text/plain": [
       "(array([2, 9, 2, 7, 3, 3, 4, 0, 6, 8, 1, 5, 7, 5, 9, 4, 0, 6, 1, 8]),\n",
       " array([0, 1, 1, 1, 2, 0, 2, 2, 0, 0, 0, 0, 0, 3, 2, 1, 1, 1, 2, 3]))"
      ]
     },
     "execution_count": 240,
     "metadata": {},
     "output_type": "execute_result"
    }
   ],
   "source": [
    "correspondance_tuple"
   ]
  },
  {
   "cell_type": "code",
   "execution_count": 247,
   "metadata": {},
   "outputs": [
    {
     "name": "stdout",
     "output_type": "stream",
     "text": [
      "\n",
      "***\n",
      "knear-row0\n",
      " [0 1 2 3]\n",
      "cluster_inds:\n",
      " [0 1 2 3]\n",
      "d_inds in: [[1 2]\n",
      " [2 0]\n",
      " [1 0]\n",
      " [2 0]]\n",
      "i =  0\n",
      "sidx = \n",
      " [0 0 1 1 2 2 3 3]\n",
      "d_inds = \n",
      " [1 2 2 0 1 0 2 0]\n",
      "iin_cur.shape(8,), out_cur.shape(8,)\n",
      "iin= [0 0 1 1 2 2 3 3]\n",
      "out= [1 2 2 0 1 0 2 0]\n",
      "\n",
      "***\n",
      "knear-row1\n",
      " [4 5 8 9]\n",
      "cluster_inds:\n",
      " [4 5 8 9]\n",
      "d_inds in: [[2 1]\n",
      " [3 0]\n",
      " [0 3]\n",
      " [1 2]]\n",
      "i =  1\n",
      "sidx = \n",
      " [4 4 5 5 8 8 9 9]\n",
      "d_inds = \n",
      " [8 5 9 4 4 9 5 8]\n",
      "iin_cur.shape(8,), out_cur.shape(8,)\n",
      "iin= [4 4 5 5 8 8 9 9]\n",
      "out= [8 5 9 4 4 9 5 8]\n",
      "\n",
      "***\n",
      "knear-row2\n",
      " [6 7]\n",
      "cluster_inds:\n",
      " [6 7]\n",
      "d_inds in: [[1 0]\n",
      " [0 1]]\n",
      "i =  2\n",
      "sidx = \n",
      " [6 6 7 7]\n",
      "d_inds = \n",
      " [7 6 6 7]\n",
      "iin_cur.shape(4,), out_cur.shape(4,)\n",
      "iin= [6 6 7 7]\n",
      "out= [7 6 6 7]\n",
      "shuffle all\n",
      "inds_in.shape(20,), inds_out.shape(20,)\n"
     ]
    }
   ],
   "source": [
    "correspondance_type = 'knear2'\n",
    "impL.reload(funcH)\n",
    "correspondance_tuple, centroid_df = funcH.get_cluster_correspondance_ids(X=bottleneck_vec, cluster_ids=pred_vec,\n",
    "                                                             correspondance_type=correspondance_type,\n",
    "                                                             verbose=5)"
   ]
  },
  {
   "cell_type": "code",
   "execution_count": 248,
   "metadata": {
    "collapsed": true
   },
   "outputs": [],
   "source": [
    "from sklearn.metrics import confusion_matrix\n",
    "impL.reload(funcH)\n"
   ]
  },
  {
   "cell_type": "code",
   "execution_count": 249,
   "metadata": {},
   "outputs": [
    {
     "name": "stdout",
     "output_type": "stream",
     "text": [
      "correspondance results:\n",
      "        labels  sampleCounts\n",
      "labels                      \n",
      "0            0             2\n",
      "2            2             4\n",
      "3            3             4\n",
      "_confMat_corr_preds - acc(100.0000)\n",
      "confMat - acc(60.0000), correspondance match:\n",
      "    0  1  2  3\n",
      "0  3  0  0  3\n",
      "1  0  0  2  0\n",
      "2  0  0  6  0\n",
      "3  3  0  0  3\n"
     ]
    }
   ],
   "source": [
    "analyze_corresondance_results(correspondance_tuple, centroid_df, pred_vec, labels)"
   ]
  },
  {
   "cell_type": "code",
   "execution_count": 243,
   "metadata": {},
   "outputs": [],
   "source": [
    "d_inds = np.asarray([2,1,3,0,0,3,1,2], dtype=int)\n",
    "cluster_inds = np.asarray([4,5,8,9], dtype=int)"
   ]
  },
  {
   "cell_type": "code",
   "execution_count": 244,
   "metadata": {},
   "outputs": [
    {
     "data": {
      "text/plain": [
       "array([2, 1, 3, 0, 0, 3, 1, 2])"
      ]
     },
     "execution_count": 244,
     "metadata": {},
     "output_type": "execute_result"
    }
   ],
   "source": [
    "d_inds"
   ]
  },
  {
   "cell_type": "code",
   "execution_count": 245,
   "metadata": {},
   "outputs": [
    {
     "data": {
      "text/plain": [
       "array([4, 5, 8, 9])"
      ]
     },
     "execution_count": 245,
     "metadata": {},
     "output_type": "execute_result"
    }
   ],
   "source": [
    "cluster_inds"
   ]
  },
  {
   "cell_type": "code",
   "execution_count": 246,
   "metadata": {},
   "outputs": [
    {
     "data": {
      "text/plain": [
       "array([8, 5, 9, 4, 4, 9, 5, 8])"
      ]
     },
     "execution_count": 246,
     "metadata": {},
     "output_type": "execute_result"
    }
   ],
   "source": []
  },
  {
   "cell_type": "code",
   "execution_count": null,
   "metadata": {
    "collapsed": true
   },
   "outputs": [],
   "source": []
  }
 ],
 "metadata": {
  "kernelspec": {
   "display_name": "venv",
   "language": "python",
   "name": "venv"
  },
  "language_info": {
   "codemirror_mode": {
    "name": "ipython",
    "version": 3
   },
   "file_extension": ".py",
   "mimetype": "text/x-python",
   "name": "python",
   "nbconvert_exporter": "python",
   "pygments_lexer": "ipython3",
   "version": "3.7.4"
  }
 },
 "nbformat": 4,
 "nbformat_minor": 2
}
