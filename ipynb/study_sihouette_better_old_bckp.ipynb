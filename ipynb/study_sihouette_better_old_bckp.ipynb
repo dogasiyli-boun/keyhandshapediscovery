{
 "cells": [
  {
   "cell_type": "code",
   "execution_count": null,
   "metadata": {},
   "outputs": [],
   "source": [
    "#pip install --user ipykernel\n",
    "#python -m ipykernel install --user --name=keyhandshapediscovery"
   ]
  },
  {
   "cell_type": "code",
   "execution_count": 1,
   "metadata": {},
   "outputs": [
    {
     "data": {
      "text/plain": [
       "'D:\\\\GitHub\\\\keyhandshapediscovery\\\\ipynb'"
      ]
     },
     "execution_count": 1,
     "metadata": {},
     "output_type": "execute_result"
    }
   ],
   "source": [
    "pwd"
   ]
  },
  {
   "cell_type": "code",
   "execution_count": 2,
   "metadata": {},
   "outputs": [
    {
     "name": "stdout",
     "output_type": "stream",
     "text": [
      "D:\\GitHub\\keyhandshapediscovery\n"
     ]
    }
   ],
   "source": [
    "cd .."
   ]
  },
  {
   "cell_type": "code",
   "execution_count": null,
   "metadata": {},
   "outputs": [],
   "source": [
    "def get_max_idx(_xv_):\n",
    "    z1 = _xv_[1:]-_xv_[:-1]\n",
    "    maxElement = np.amax(z1)\n",
    "    print('Max element from Numpy Array : ', maxElement)\n",
    "    result = np.where(z1 == maxElement)\n",
    "    print('Returned tuple of arrays :', result)\n",
    "    print('List of Indices of max element :', result[0])\n",
    "    return result[0]\n",
    "\n",
    "def old_stuff():\n",
    "    #block_01\n",
    "    impL.reload(sf)\n",
    "    impL.reload(funcH)\n",
    "    a, result_dict = sf.study_silhouette_analysis(fold_to_run='hgsk_256_11/20210221_hgsk_256_11_cKM256_e10_UMAPud256_un20', bef_aft=\"before\")    \n",
    "\n",
    "    #block_02\n",
    "    #fold_1 = funcH.getVariableByComputerName('n2d_experiments') # '/mnt/SSD_Data/DataPath/n2d_experiments'\n",
    "    fold_2 = '/home/doga/Desktop'\n",
    "    #np.savez(os.path.join(fold_1, 'a.npz'), sample_silhouette_values_sorted=sample_silhouette_values_sorted, labels_sorted=labels_sorted, preds_sorted=preds_sorted, data_perc_vec=data_perc_vec, allow_pickles=True)\n",
    "    #np.savez(os.path.join(fold_1, 'b.npz'), a=a, result_dict=result_dict, allow_pickles=True)\n",
    "    a = np.load(os.path.join(fold_2, 'a.npz'), allow_pickle=True)\n",
    "    b = np.load(os.path.join(fold_2, 'b.npz'), allow_pickle=True)\n",
    "    \n",
    "    #block_03\n",
    "    print(a.files)\n",
    "    print(b.files)\n",
    "    preds_sorted = a['preds_sorted']\n",
    "    labels_sorted = a['labels_sorted']\n",
    "    sample_silhouette_values_sorted = a['sample_silhouette_values_sorted']\n",
    "    print(preds_sorted.shape, type(preds_sorted))\n",
    "    print(labels_sorted.shape, type(labels_sorted))\n",
    "    all_ones = np.ones(preds_sorted.shape, dtype=float)\n",
    "    \n",
    "    #block_04\n",
    "    pred_cumsum = np.cumsum(preds_sorted == labels_sorted) / np.cumsum(all_ones)\n",
    "    data_perc_vec = np.arange(0, len(pred_cumsum)) / len(pred_cumsum)\n",
    "    \n",
    "    #block_05\n",
    "    plt.close('all')\n",
    "    fig, ax = plt.subplots(1, figsize=(12,4), dpi=180)\n",
    "    ax.plot(data_perc_vec, pred_cumsum, lw=2, label='accuracy', color='blue', ls='-', zorder=0)\n",
    "    ax.plot(data_perc_vec, sample_silhouette_values_sorted, lw=2, label='accuracy', color='green', ls='-', zorder=1)\n",
    "    max_idx = get_max_idx(sample_silhouette_values_sorted)\n",
    "    for _x_ in max_idx:\n",
    "        _xn = _x_/len(pred_cumsum)\n",
    "        print(_x_, sample_silhouette_values_sorted[_x_],sample_silhouette_values_sorted[_x_+1])\n",
    "        ac_at = pred_cumsum[_x_]\n",
    "        ax.plot(np.asarray([_xn, _xn]), np.asarray([sample_silhouette_values_sorted[_x_], ac_at]), lw=3,\n",
    "                    color='yellow', ls='-', zorder=2)\n",
    "\n",
    "    #block_06\n",
    "    print(sample_silhouette_values_sorted)\n",
    "    print(sample_silhouette_values_sorted.shape)\n",
    "    print(type(sample_silhouette_values_sorted))\n",
    "\n",
    "\n",
    "    #block_07\n",
    "    from scipy.interpolate import InterpolatedUnivariateSpline\n",
    "    spl = InterpolatedUnivariateSpline(data_perc_vec, sample_silhouette_values_sorted)\n",
    "    print(spl)\n",
    "    spl.get_residual()\n",
    "    \n",
    "    #block_08\n",
    "    plt.plot(data_perc_vec, spl(data_perc_vec), 'g', lw=3, alpha=0.7)\n",
    "    plt.show()\n",
    "\n",
    "    #block_09\n",
    "    for key, value in result_dict.items() :\n",
    "        print (key)\n",
    "\n",
    "    #block_10\n",
    "    _xv_ = sample_silhouette_values_sorted.copy()\n",
    "    z1 = _xv_[1:]-_xv_[:-1]\n",
    "    z2 = z1[1:]-z1[:-1]\n",
    "    plt.close('all')\n",
    "    fig, ax = plt.subplots(1, figsize=(12,4), dpi=180)\n",
    "    #ax.plot(data_perc_vec[0:], _xv_, lw=4, label='accuracy', color='red', ls='-', zorder=0)\n",
    "    ax.plot(data_perc_vec[1:], z1, lw=3, label='accuracy', color='green', ls='-', zorder=0)\n",
    "    #ax.plot(data_perc_vec[2:], z2, lw=1, label='accuracy', color='blue', ls='-', zorder=0)\n",
    "    plt.show()\n",
    "    "
   ]
  }
 ],
 "metadata": {
  "kernelspec": {
   "display_name": "keyhandshapediscovery",
   "language": "python",
   "name": "keyhandshapediscovery"
  },
  "language_info": {
   "codemirror_mode": {
    "name": "ipython",
    "version": 3
   },
   "file_extension": ".py",
   "mimetype": "text/x-python",
   "name": "python",
   "nbconvert_exporter": "python",
   "pygments_lexer": "ipython3",
   "version": "3.8.8"
  },
  "varInspector": {
   "cols": {
    "lenName": 16,
    "lenType": 16,
    "lenVar": 40
   },
   "kernels_config": {
    "python": {
     "delete_cmd_postfix": "",
     "delete_cmd_prefix": "del ",
     "library": "var_list.py",
     "varRefreshCmd": "print(var_dic_list())"
    },
    "r": {
     "delete_cmd_postfix": ") ",
     "delete_cmd_prefix": "rm(",
     "library": "var_list.r",
     "varRefreshCmd": "cat(var_dic_list()) "
    }
   },
   "types_to_exclude": [
    "module",
    "function",
    "builtin_function_or_method",
    "instance",
    "_Feature"
   ],
   "window_display": false
  }
 },
 "nbformat": 4,
 "nbformat_minor": 2
}
