{
 "cells": [
  {
   "cell_type": "code",
   "execution_count": null,
   "metadata": {},
   "outputs": [],
   "source": [
    "pwd"
   ]
  },
  {
   "cell_type": "code",
   "execution_count": null,
   "metadata": {},
   "outputs": [],
   "source": [
    "cd .."
   ]
  },
  {
   "cell_type": "code",
   "execution_count": null,
   "metadata": {},
   "outputs": [],
   "source": [
    "import scriptFile as sf\n",
    "import importlib as impL\n",
    "import helperFuncs as funcH\n",
    "import projRelatedHelperFuncs as prHF\n",
    "import os\n",
    "import numpy as np\n",
    "import matplotlib.pyplot as plt\n",
    "os.getcwd()"
   ]
  },
  {
   "cell_type": "code",
   "execution_count": null,
   "metadata": {},
   "outputs": [],
   "source": [
    "import torch\n",
    "import os\n",
    "import helperFuncs as funcH\n",
    "from pandas import DataFrame as pd_df\n",
    "from sklearn.metrics import confusion_matrix\n",
    "impL.reload(prHF)\n",
    "\n",
    "figsize=(8,3) \n",
    "dpi=360\n",
    "\n",
    "cf_int = 532\n",
    "impL.reload(funcH)\n",
    "experiments_folder = funcH.directory_find('cf{:d}'.format(cf_int), root=funcH.getVariableByComputerName('data_dir'))\n",
    "print(experiments_folder)\n",
    "\n",
    "# update_centroid_df\n",
    "# analyze_correspondance_results\n",
    "# map_predictions\n",
    "# _cumsum_preds - prHF.cumsum_preds\n",
    "# calc_tup_sc - prHF.calc_tup_sc"
   ]
  },
  {
   "cell_type": "code",
   "execution_count": null,
   "metadata": {
    "scrolled": true
   },
   "outputs": [],
   "source": [
    "impL.reload(prHF)\n",
    "def get_epoch(ep_str):\n",
    "    print(sil_var[ep_str].keys())\n",
    "    silhouette_values = sil_var[ep_str][\"silhouette_values\"]\n",
    "    silhouette_avg = sil_var[ep_str][\"silhouette_avg\"]\n",
    "    reconstruction_loss = sil_var[ep_str][\"reconstruction_loss\"]\n",
    "    correspondance_weights = sil_var[ep_str][\"correspondance_weights\"]\n",
    "    sil_var[ep_str][\"predictions\"] = np.asarray(sil_var[ep_str][\"predictions\"],dtype=int)\n",
    "    labels = sil_var[ep_str][\"labels\"]\n",
    "    correspondance_tuple = sil_var[ep_str][\"correspondance_tuple\"]\n",
    "    kluster_centroids = sil_var[ep_str][\"kluster_centroids\"]\n",
    "    return sil_var[ep_str]\n",
    "\n",
    "exp_fold = experiments_folder\n",
    "silhouette_reconstruction_sort_file = os.path.join(exp_fold, \"silhouette_reconstruction.torch\")\n",
    "sil_var = torch.load(silhouette_reconstruction_sort_file, map_location=torch.device('cpu'))\n",
    "print(len(sil_var))\n",
    "print(sil_var.keys())\n",
    "for ep_str in sil_var.keys():\n",
    "    _evs = get_epoch(ep_str=ep_str)\n",
    "    epoch_id = int(ep_str.replace(\"epoch\", \"\"))\n",
    "    prHF.calc_tup_sc(_evs[\"silhouette_values\"], _evs[\"reconstruction_loss\"], \n",
    "                     _evs[\"correspondance_tuple\"], _evs[\"labels\"], \n",
    "                     ep_id=epoch_id, experiments_folder=exp_fold)"
   ]
  },
  {
   "cell_type": "code",
   "execution_count": null,
   "metadata": {},
   "outputs": [],
   "source": [
    "kluster_centroids = prHF.update_centroid_df(_evs[\"kluster_centroids\"], _evs[\"predictions\"])\n",
    "prHF.analyze_correspondance_results(_evs[\"correspondance_tuple\"], _evs[\"kluster_centroids\"], _evs[\"predictions\"], _evs[\"labels\"])"
   ]
  },
  {
   "cell_type": "code",
   "execution_count": null,
   "metadata": {
    "scrolled": true
   },
   "outputs": [],
   "source": [
    "result_dict = funcH.analyze_silhouette_values(_evs[\"silhouette_values\"], _evs[\"predictions\"], _evs[\"labels\"],\n",
    "                                    centroid_info_pdf=_evs[\"kluster_centroids\"],\n",
    "                                    label_names=None, conf_plot_save_to='',\n",
    "                                    figsize=figsize, lw=[4, 3, 2], show_title=False, str_deg=15, str_size=12)\n",
    "sil_val_sorted, sil_idx = funcH.sortVec(_evs[\"silhouette_values\"])\n",
    "rec_los_sorted, rec_idx = funcH.sortVec(-_evs[\"reconstruction_loss\"])\n",
    "rec_los_sorted_0_1 = funcH.map_0_1(-rec_los_sorted)\n",
    "predictions_mapped = prHF.map_predictions(_evs[\"labels\"], _evs[\"predictions\"], centroid_info_pdf=_evs[\"kluster_centroids\"])\n",
    "print(np.min(rec_los_sorted), np.max(rec_los_sorted))"
   ]
  },
  {
   "cell_type": "code",
   "execution_count": null,
   "metadata": {},
   "outputs": [],
   "source": [
    "cumsum_preds_sil = prHF.cumsum_preds(labels, predictions_mapped, sil_idx)\n",
    "cumsum_preds_rec = prHF.cumsum_preds(labels, predictions_mapped, rec_idx)\n",
    "data_perc_vec = np.arange(0, len(cumsum_preds_rec)) / len(cumsum_preds_rec)\n",
    "\n",
    "plt.close('all')\n",
    "fig, ax = plt.subplots(1, figsize=figsize, dpi=dpi)\n",
    "ax.plot(data_perc_vec, cumsum_preds_sil, lw=2, label='sil_cs', color='blue', ls='-', zorder=0)\n",
    "ax.plot(data_perc_vec, cumsum_preds_rec, lw=2, label='rec_cs', color='red', ls='-', zorder=0)\n",
    "ax.plot(data_perc_vec, sil_val_sorted, lw=1, label='sil_val_sorted', color='cyan', ls='-', zorder=0)\n",
    "ax.plot(data_perc_vec, rec_los_sorted_0_1, lw=1, label='rec_los_sorted_0_1', color='orange', ls='-', zorder=0)\n",
    "plt.legend(loc='upper right')\n",
    "np.mean(rec_los_sorted_0_1)"
   ]
  }
 ],
 "metadata": {
  "kernelspec": {
   "display_name": "keyhandshapediscovery",
   "language": "python",
   "name": "keyhandshapediscovery"
  },
  "language_info": {
   "codemirror_mode": {
    "name": "ipython",
    "version": 3
   },
   "file_extension": ".py",
   "mimetype": "text/x-python",
   "name": "python",
   "nbconvert_exporter": "python",
   "pygments_lexer": "ipython3",
   "version": "3.8.8"
  },
  "varInspector": {
   "cols": {
    "lenName": 16,
    "lenType": 16,
    "lenVar": 40
   },
   "kernels_config": {
    "python": {
     "delete_cmd_postfix": "",
     "delete_cmd_prefix": "del ",
     "library": "var_list.py",
     "varRefreshCmd": "print(var_dic_list())"
    },
    "r": {
     "delete_cmd_postfix": ") ",
     "delete_cmd_prefix": "rm(",
     "library": "var_list.r",
     "varRefreshCmd": "cat(var_dic_list()) "
    }
   },
   "types_to_exclude": [
    "module",
    "function",
    "builtin_function_or_method",
    "instance",
    "_Feature"
   ],
   "window_display": false
  }
 },
 "nbformat": 4,
 "nbformat_minor": 2
}
