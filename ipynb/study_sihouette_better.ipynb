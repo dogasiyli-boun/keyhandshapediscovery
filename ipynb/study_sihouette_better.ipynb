{
 "cells": [
  {
   "cell_type": "code",
   "execution_count": null,
   "metadata": {
    "collapsed": true
   },
   "outputs": [],
   "source": [
    "import scriptFile as sf\n",
    "import importlib as impL\n",
    "import helperFuncs as funcH\n",
    "impL.reload(sf)\n",
    "impL.reload(funcH)\n",
    "a, result_dict = sf.study_silhouette_analysis(fold_to_run='hgsk_256_11/20210221_hgsk_256_11_cKM256_e10_UMAPud256_un20', bef_aft=\"before\")"
   ]
  },
  {
   "cell_type": "code",
   "execution_count": null,
   "metadata": {
    "collapsed": true
   },
   "outputs": [],
   "source": [
    "#np.savez('/home/doga/Desktop/a.npz', labels_sorted=labels_sorted, preds_sorted=preds_sorted, data_perc_vec=data_perc_vec, allow_pickles=True)\n",
    "#np.savez('/home/doga/Desktop/b.npz', a=a, result_dict=result_dict, allow_pickles=True)"
   ]
  }
 ],
 "metadata": {
  "kernelspec": {
   "display_name": "venv_vae",
   "language": "python",
   "name": "venv_vae"
  },
  "language_info": {
   "codemirror_mode": {
    "name": "ipython",
    "version": 2
   },
   "file_extension": ".py",
   "mimetype": "text/x-python",
   "name": "python",
   "nbconvert_exporter": "python",
   "pygments_lexer": "ipython2",
   "version": "2.7.12"
  }
 },
 "nbformat": 4,
 "nbformat_minor": 2
}
