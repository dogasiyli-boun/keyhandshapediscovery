{
 "cells": [
  {
   "cell_type": "code",
   "execution_count": 4,
   "metadata": {},
   "outputs": [
    {
     "name": "stdout",
     "output_type": "stream",
     "text": [
      "1.4.0\n",
      "1.17.2\n"
     ]
    }
   ],
   "source": [
    "import torch\n",
    "import torch.nn.functional as F\n",
    "import numpy as np\n",
    "print(torch.__version__)\n",
    "print(np.__version__)"
   ]
  },
  {
   "cell_type": "code",
   "execution_count": 5,
   "metadata": {},
   "outputs": [
    {
     "name": "stdout",
     "output_type": "stream",
     "text": [
      "cuda:0\n"
     ]
    }
   ],
   "source": [
    "device = 'cuda:0' if torch.cuda.is_available() else 'cpu'\n",
    "print(device)"
   ]
  },
  {
   "cell_type": "code",
   "execution_count": 6,
   "metadata": {},
   "outputs": [
    {
     "name": "stdout",
     "output_type": "stream",
     "text": [
      "tensor([[10.,  3.],\n",
      "        [ 2.,  8.],\n",
      "        [10.,  2.],\n",
      "        [ 3.,  7.]])\n",
      "n= 4 , d= 2\n",
      "torch.sigmoid(tensor):\n",
      "tensor([[1.0000, 0.9526],\n",
      "        [0.8808, 0.9997],\n",
      "        [1.0000, 0.8808],\n",
      "        [0.9526, 0.9991]])\n",
      "F.log_softmax(tensor, dim=1):\n",
      "tensor([[-9.1142e-04, -7.0009e+00],\n",
      "        [-6.0025e+00, -2.4757e-03],\n",
      "        [-3.3540e-04, -8.0003e+00],\n",
      "        [-4.0181e+00, -1.8150e-02]])\n",
      "F.log_softmax(torch.sigmoid(tensor), dim=1):\n",
      "tensor([[-0.6697, -0.7171],\n",
      "        [-0.7543, -0.6355],\n",
      "        [-0.6353, -0.7545],\n",
      "        [-0.7167, -0.6702]])\n"
     ]
    }
   ],
   "source": [
    "var = torch.tensor([[10,3], [2,8], [10,2], [3,7]], dtype=torch.float32)\n",
    "print(var)\n",
    "n,d = var.size()\n",
    "print('n=', n, ', d=', d)\n",
    "\n",
    "print('torch.sigmoid(tensor):')\n",
    "print(torch.sigmoid(var))\n",
    "\n",
    "print('F.log_softmax(tensor, dim=1):')\n",
    "print(F.log_softmax(var, dim=1))\n",
    "\n",
    "print('F.log_softmax(torch.sigmoid(tensor), dim=1):')\n",
    "print(F.log_softmax(torch.sigmoid(var), dim=1))"
   ]
  },
  {
   "cell_type": "code",
   "execution_count": 12,
   "metadata": {},
   "outputs": [],
   "source": [
    "def loss_crossentropy(bottleneck, reduction, f):\n",
    "    loss_fun = torch.nn.CrossEntropyLoss(reduction=reduction)\n",
    "    bt = torch.sigmoid(bottleneck).to(device)  # sigmoid because we need the probability distributions   \n",
    "    _, preds = torch.max(bt, 1)\n",
    "    if f==1:\n",
    "        loss_ret_1 = loss_fun(bottleneck.to(device), preds)    \n",
    "    elif f==2:\n",
    "        loss_ret_1 = loss_fun(F.log_softmax(bottleneck, dim=1).to(device), preds)\n",
    "    else:\n",
    "        loss_ret_1 = loss_fun(F.log_softmax(bt, dim=1).to(device), preds)\n",
    "    return loss_ret_1"
   ]
  },
  {
   "cell_type": "code",
   "execution_count": 13,
   "metadata": {},
   "outputs": [
    {
     "name": "stdout",
     "output_type": "stream",
     "text": [
      "loss_crossentropy-1-mean\n",
      "tensor(0.0055, device='cuda:0')\n"
     ]
    }
   ],
   "source": [
    "print('loss_crossentropy-1-mean')\n",
    "print(loss_crossentropy(var, reduction='mean', f=1))"
   ]
  },
  {
   "cell_type": "code",
   "execution_count": 14,
   "metadata": {},
   "outputs": [
    {
     "name": "stdout",
     "output_type": "stream",
     "text": [
      "loss_crossentropy-2-mean\n",
      "tensor(0.0055, device='cuda:0')\n"
     ]
    }
   ],
   "source": [
    "print('loss_crossentropy-2-mean')\n",
    "print(loss_crossentropy(var, reduction='mean', f=2))"
   ]
  },
  {
   "cell_type": "code",
   "execution_count": 15,
   "metadata": {},
   "outputs": [
    {
     "name": "stdout",
     "output_type": "stream",
     "text": [
      "loss_crossentropy-3-mean\n",
      "tensor(0.6527, device='cuda:0')\n"
     ]
    }
   ],
   "source": [
    "print('loss_crossentropy-3-mean')\n",
    "print(loss_crossentropy(var, reduction='mean', f=3))"
   ]
  },
  {
   "cell_type": "code",
   "execution_count": 16,
   "metadata": {},
   "outputs": [
    {
     "name": "stdout",
     "output_type": "stream",
     "text": [
      "loss_crossentropy-1-sum\n",
      "tensor(0.0219, device='cuda:0')\n"
     ]
    }
   ],
   "source": [
    "print('loss_crossentropy-1-sum')\n",
    "print(loss_crossentropy(var, reduction='sum', f=1))"
   ]
  },
  {
   "cell_type": "code",
   "execution_count": null,
   "metadata": {},
   "outputs": [],
   "source": [
    "def loss_crossentropy(bottleneck, reduction):\n",
    "    loss_fun = torch.nn.CrossEntropyLoss(reduction=reduction)\n",
    "    bt = torch.sigmoid(bottleneck).to(device)  # sigmoid because we need the probability distributions   \n",
    "    _, preds = torch.max(bt, 1)\n",
    "    loss_ret_1 = loss_fun(F.log_softmax(bt, dim=1).to(device), preds)\n",
    "    return loss_ret_1"
   ]
  }
 ],
 "metadata": {
  "kernelspec": {
   "display_name": "Python 3",
   "language": "python",
   "name": "python3"
  },
  "language_info": {
   "codemirror_mode": {
    "name": "ipython",
    "version": 3
   },
   "file_extension": ".py",
   "mimetype": "text/x-python",
   "name": "python",
   "nbconvert_exporter": "python",
   "pygments_lexer": "ipython3",
   "version": "3.7.3"
  }
 },
 "nbformat": 4,
 "nbformat_minor": 2
}
